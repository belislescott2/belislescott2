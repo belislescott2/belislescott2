{
  "nbformat": 4,
  "nbformat_minor": 0,
  "metadata": {
    "colab": {
      "name": "Copy of Exercise 3.1 - Pandas Time-Series I",
      "provenance": [],
      "collapsed_sections": [],
      "include_colab_link": true
    },
    "kernelspec": {
      "name": "python3",
      "display_name": "Python 3"
    }
  },
  "cells": [
    {
      "cell_type": "markdown",
      "metadata": {
        "id": "view-in-github",
        "colab_type": "text"
      },
      "source": [
        "<a href=\"https://colab.research.google.com/github/belislescott2/belislescott2/blob/main/Copy_of_Exercise_3_1_Pandas_Time_Series_I.ipynb\" target=\"_parent\"><img src=\"https://colab.research.google.com/assets/colab-badge.svg\" alt=\"Open In Colab\"/></a>"
      ]
    },
    {
      "cell_type": "markdown",
      "metadata": {
        "id": "bIO90CQKXSDe"
      },
      "source": [
        "# Data Science for Construction, Architecture and Engineering\n",
        "\n",
        "### Week 3 - Construction - Pandas Time-Series Data\n",
        "\n",
        "### Exercise Set 3.1 - Pandas Time-Series I\n",
        "\n",
        "This set of exercises is the first of two sets for Week 3. These exercises are designed to give you some hands on experience in trying out the concepts from the first set of videos for this week.\n",
        "\n",
        "There is an introduction video available to explain the process of using this exercise video.\n",
        "\n",
        "The lead developer of this exercise is James Zhan Sicheng, a Ph.D. student at NUS and a teaching assistant of this course. "
      ]
    },
    {
      "cell_type": "markdown",
      "metadata": {
        "id": "ABIHzdSuolvx"
      },
      "source": [
        "# Exercise 03.1\n",
        "\n",
        "There are three exercises in this set, focusing on the use of the [Pandas](https://pandas.pydata.org/) functions introduced in the videos: read, resample, truncate and plot.\n",
        "\n",
        "### Please note that you will need to use the resultant output from Exercise 03.1.3 for the Quiz 3.1."
      ]
    },
    {
      "cell_type": "markdown",
      "metadata": {
        "id": "iTrZjmkZZ-rE"
      },
      "source": [
        "#### Setup the environment\n",
        "The cell below is used to load the necessary packages for this exercise and setup the working directory. You will be asked to give the google drive authorization using through a given link."
      ]
    },
    {
      "cell_type": "code",
      "metadata": {
        "id": "evJcVnLZbFo5"
      },
      "source": [
        "import pandas as pd\n",
        "from google.colab import drive\n",
        "import os\n",
        "import numpy as np"
      ],
      "execution_count": null,
      "outputs": []
    },
    {
      "cell_type": "code",
      "metadata": {
        "id": "SF9wnvdgzwEC",
        "colab": {
          "base_uri": "https://localhost:8080/"
        },
        "outputId": "7057dad9-4eb4-4a43-bb58-e0eca4b8076f"
      },
      "source": [
        "drive.mount('/content/gdrive')"
      ],
      "execution_count": null,
      "outputs": [
        {
          "output_type": "stream",
          "name": "stdout",
          "text": [
            "Mounted at /content/gdrive\n"
          ]
        }
      ]
    },
    {
      "cell_type": "markdown",
      "metadata": {
        "id": "xmWizPiTzxQY"
      },
      "source": [
        "In order to do the following exercises, we will go ahead and load the `meta` data file. Please note that we're using the `os` library again to navigate our file struture to *change the directory* to find the right files.\n",
        "\n",
        "**Important Note** - if your file structure is different from what you see below, then you will get an error. You will need to change your file locations *or* update the file path"
      ]
    },
    {
      "cell_type": "code",
      "metadata": {
        "id": "CaZpKu9ntWDW",
        "colab": {
          "base_uri": "https://localhost:8080/",
          "height": 600
        },
        "outputId": "0d947464-e866-4f92-86dd-8a5d477a0b51"
      },
      "source": [
        "# read meta data file as pandas dataframe and assign to the corresponding variables\n",
        "os.chdir(\"/content/gdrive/My Drive/EDX Data Science for Construction, Architecture and Engineering/3 - Construction - Pandas Fundamentals/\")\n",
        "metadata = pd.read_csv('all_buildings_meta_data.csv')\n",
        "metadata.head(10)"
      ],
      "execution_count": null,
      "outputs": [
        {
          "output_type": "execute_result",
          "data": {
            "text/html": [
              "\n",
              "  <div id=\"df-6e121f07-5a7c-488e-9b6e-7277c00e9db9\">\n",
              "    <div class=\"colab-df-container\">\n",
              "      <div>\n",
              "<style scoped>\n",
              "    .dataframe tbody tr th:only-of-type {\n",
              "        vertical-align: middle;\n",
              "    }\n",
              "\n",
              "    .dataframe tbody tr th {\n",
              "        vertical-align: top;\n",
              "    }\n",
              "\n",
              "    .dataframe thead th {\n",
              "        text-align: right;\n",
              "    }\n",
              "</style>\n",
              "<table border=\"1\" class=\"dataframe\">\n",
              "  <thead>\n",
              "    <tr style=\"text-align: right;\">\n",
              "      <th></th>\n",
              "      <th>uid</th>\n",
              "      <th>dataend</th>\n",
              "      <th>datastart</th>\n",
              "      <th>energystarscore</th>\n",
              "      <th>heatingtype</th>\n",
              "      <th>industry</th>\n",
              "      <th>mainheatingtype</th>\n",
              "      <th>numberoffloors</th>\n",
              "      <th>occupants</th>\n",
              "      <th>primaryspaceusage</th>\n",
              "      <th>rating</th>\n",
              "      <th>sqft</th>\n",
              "      <th>sqm</th>\n",
              "      <th>subindustry</th>\n",
              "      <th>timezone</th>\n",
              "      <th>yearbuilt</th>\n",
              "      <th>nickname</th>\n",
              "      <th>primaryspaceuse_abbrev</th>\n",
              "      <th>newweatherfilename</th>\n",
              "    </tr>\n",
              "  </thead>\n",
              "  <tbody>\n",
              "    <tr>\n",
              "      <th>0</th>\n",
              "      <td>PrimClass_Everett</td>\n",
              "      <td>31/12/12 23:00</td>\n",
              "      <td>01/01/12 00:00</td>\n",
              "      <td>NaN</td>\n",
              "      <td>NaN</td>\n",
              "      <td>Education</td>\n",
              "      <td>NaN</td>\n",
              "      <td>NaN</td>\n",
              "      <td>NaN</td>\n",
              "      <td>Primary/Secondary Classroom</td>\n",
              "      <td>NaN</td>\n",
              "      <td>105530.0000</td>\n",
              "      <td>9804.053590</td>\n",
              "      <td>Primary/Secondary School</td>\n",
              "      <td>America/New_York</td>\n",
              "      <td>NaN</td>\n",
              "      <td>Everett</td>\n",
              "      <td>PrimClass</td>\n",
              "      <td>weather12.csv</td>\n",
              "    </tr>\n",
              "    <tr>\n",
              "      <th>1</th>\n",
              "      <td>UnivClass_Clifford</td>\n",
              "      <td>31/12/15 23:00</td>\n",
              "      <td>01/01/15 00:00</td>\n",
              "      <td>NaN</td>\n",
              "      <td>NaN</td>\n",
              "      <td>Education</td>\n",
              "      <td>NaN</td>\n",
              "      <td>NaN</td>\n",
              "      <td>NaN</td>\n",
              "      <td>College Classroom</td>\n",
              "      <td>NaN</td>\n",
              "      <td>56969.0000</td>\n",
              "      <td>5292.591007</td>\n",
              "      <td>College/University</td>\n",
              "      <td>America/New_York</td>\n",
              "      <td>1967</td>\n",
              "      <td>Clifford</td>\n",
              "      <td>UnivClass</td>\n",
              "      <td>weather2.csv</td>\n",
              "    </tr>\n",
              "    <tr>\n",
              "      <th>2</th>\n",
              "      <td>Office_Elizabeth</td>\n",
              "      <td>31/12/12 23:00</td>\n",
              "      <td>01/01/12 00:00</td>\n",
              "      <td>NaN</td>\n",
              "      <td>NaN</td>\n",
              "      <td>Commercial Property</td>\n",
              "      <td>NaN</td>\n",
              "      <td>NaN</td>\n",
              "      <td>NaN</td>\n",
              "      <td>Office</td>\n",
              "      <td>NaN</td>\n",
              "      <td>294651.0000</td>\n",
              "      <td>27373.961850</td>\n",
              "      <td>Commercial Real Estate</td>\n",
              "      <td>America/Los_Angeles</td>\n",
              "      <td>NaN</td>\n",
              "      <td>Elizabeth</td>\n",
              "      <td>Office</td>\n",
              "      <td>weather22.csv</td>\n",
              "    </tr>\n",
              "    <tr>\n",
              "      <th>3</th>\n",
              "      <td>Office_Ellie</td>\n",
              "      <td>31/12/12 23:00</td>\n",
              "      <td>01/01/12 00:00</td>\n",
              "      <td>NaN</td>\n",
              "      <td>NaN</td>\n",
              "      <td>Commercial Property</td>\n",
              "      <td>NaN</td>\n",
              "      <td>NaN</td>\n",
              "      <td>NaN</td>\n",
              "      <td>Office</td>\n",
              "      <td>NaN</td>\n",
              "      <td>496517.0000</td>\n",
              "      <td>46127.918850</td>\n",
              "      <td>Bank/Financial Services</td>\n",
              "      <td>America/Los_Angeles</td>\n",
              "      <td>NaN</td>\n",
              "      <td>Ellie</td>\n",
              "      <td>Office</td>\n",
              "      <td>weather28.csv</td>\n",
              "    </tr>\n",
              "    <tr>\n",
              "      <th>4</th>\n",
              "      <td>PrimClass_Elisabeth</td>\n",
              "      <td>31/12/12 23:00</td>\n",
              "      <td>01/01/12 00:00</td>\n",
              "      <td>NaN</td>\n",
              "      <td>NaN</td>\n",
              "      <td>Education</td>\n",
              "      <td>NaN</td>\n",
              "      <td>NaN</td>\n",
              "      <td>NaN</td>\n",
              "      <td>Primary/Secondary Classroom</td>\n",
              "      <td>NaN</td>\n",
              "      <td>233062.0000</td>\n",
              "      <td>21652.158990</td>\n",
              "      <td>Primary/Secondary School</td>\n",
              "      <td>America/New_York</td>\n",
              "      <td>NaN</td>\n",
              "      <td>Elisabeth</td>\n",
              "      <td>PrimClass</td>\n",
              "      <td>weather23.csv</td>\n",
              "    </tr>\n",
              "    <tr>\n",
              "      <th>5</th>\n",
              "      <td>Office_Cristina</td>\n",
              "      <td>31/12/15 23:00</td>\n",
              "      <td>01/01/15 00:00</td>\n",
              "      <td>NaN</td>\n",
              "      <td>NaN</td>\n",
              "      <td>Education</td>\n",
              "      <td>NaN</td>\n",
              "      <td>NaN</td>\n",
              "      <td>NaN</td>\n",
              "      <td>Office</td>\n",
              "      <td>NaN</td>\n",
              "      <td>92271.0000</td>\n",
              "      <td>8572.252713</td>\n",
              "      <td>College/University</td>\n",
              "      <td>America/New_York</td>\n",
              "      <td>2001</td>\n",
              "      <td>Cristina</td>\n",
              "      <td>Office</td>\n",
              "      <td>weather2.csv</td>\n",
              "    </tr>\n",
              "    <tr>\n",
              "      <th>6</th>\n",
              "      <td>PrimClass_Jolie</td>\n",
              "      <td>30/11/15 23:00</td>\n",
              "      <td>01/12/14 00:00</td>\n",
              "      <td>NaN</td>\n",
              "      <td>Gas</td>\n",
              "      <td>Education</td>\n",
              "      <td>Gas</td>\n",
              "      <td>2.0</td>\n",
              "      <td>212.0</td>\n",
              "      <td>Primary/Secondary Classroom</td>\n",
              "      <td>C</td>\n",
              "      <td>31505.9353</td>\n",
              "      <td>2927.000000</td>\n",
              "      <td>Primary/Secondary School</td>\n",
              "      <td>Europe/London</td>\n",
              "      <td>pre 1919</td>\n",
              "      <td>Jolie</td>\n",
              "      <td>PrimClass</td>\n",
              "      <td>weather1.csv</td>\n",
              "    </tr>\n",
              "    <tr>\n",
              "      <th>7</th>\n",
              "      <td>PrimClass_Jaylin</td>\n",
              "      <td>30/11/15 23:00</td>\n",
              "      <td>01/12/14 00:00</td>\n",
              "      <td>NaN</td>\n",
              "      <td>Gas</td>\n",
              "      <td>Education</td>\n",
              "      <td>Gas</td>\n",
              "      <td>2.0</td>\n",
              "      <td>219.0</td>\n",
              "      <td>Primary/Secondary Classroom</td>\n",
              "      <td>C</td>\n",
              "      <td>47070.5347</td>\n",
              "      <td>4373.000000</td>\n",
              "      <td>Primary/Secondary School</td>\n",
              "      <td>Europe/London</td>\n",
              "      <td>1919-1945</td>\n",
              "      <td>Jaylin</td>\n",
              "      <td>PrimClass</td>\n",
              "      <td>weather1.csv</td>\n",
              "    </tr>\n",
              "    <tr>\n",
              "      <th>8</th>\n",
              "      <td>Office_Jesus</td>\n",
              "      <td>30/11/15 23:00</td>\n",
              "      <td>01/12/14 00:00</td>\n",
              "      <td>NaN</td>\n",
              "      <td>Gas</td>\n",
              "      <td>Government</td>\n",
              "      <td>Gas</td>\n",
              "      <td>1.0</td>\n",
              "      <td>40.0</td>\n",
              "      <td>Office</td>\n",
              "      <td>C</td>\n",
              "      <td>42646.5718</td>\n",
              "      <td>3962.000000</td>\n",
              "      <td>City, County, State</td>\n",
              "      <td>Europe/London</td>\n",
              "      <td>Post 1976</td>\n",
              "      <td>Jesus</td>\n",
              "      <td>Office</td>\n",
              "      <td>weather1.csv</td>\n",
              "    </tr>\n",
              "    <tr>\n",
              "      <th>9</th>\n",
              "      <td>PrimClass_Esmeralda</td>\n",
              "      <td>31/12/12 23:00</td>\n",
              "      <td>01/01/12 00:00</td>\n",
              "      <td>NaN</td>\n",
              "      <td>NaN</td>\n",
              "      <td>Education</td>\n",
              "      <td>NaN</td>\n",
              "      <td>NaN</td>\n",
              "      <td>NaN</td>\n",
              "      <td>Primary/Secondary Classroom</td>\n",
              "      <td>NaN</td>\n",
              "      <td>276443.0000</td>\n",
              "      <td>25682.384030</td>\n",
              "      <td>Primary/Secondary School</td>\n",
              "      <td>America/New_York</td>\n",
              "      <td>NaN</td>\n",
              "      <td>Esmeralda</td>\n",
              "      <td>PrimClass</td>\n",
              "      <td>weather17.csv</td>\n",
              "    </tr>\n",
              "  </tbody>\n",
              "</table>\n",
              "</div>\n",
              "      <button class=\"colab-df-convert\" onclick=\"convertToInteractive('df-6e121f07-5a7c-488e-9b6e-7277c00e9db9')\"\n",
              "              title=\"Convert this dataframe to an interactive table.\"\n",
              "              style=\"display:none;\">\n",
              "        \n",
              "  <svg xmlns=\"http://www.w3.org/2000/svg\" height=\"24px\"viewBox=\"0 0 24 24\"\n",
              "       width=\"24px\">\n",
              "    <path d=\"M0 0h24v24H0V0z\" fill=\"none\"/>\n",
              "    <path d=\"M18.56 5.44l.94 2.06.94-2.06 2.06-.94-2.06-.94-.94-2.06-.94 2.06-2.06.94zm-11 1L8.5 8.5l.94-2.06 2.06-.94-2.06-.94L8.5 2.5l-.94 2.06-2.06.94zm10 10l.94 2.06.94-2.06 2.06-.94-2.06-.94-.94-2.06-.94 2.06-2.06.94z\"/><path d=\"M17.41 7.96l-1.37-1.37c-.4-.4-.92-.59-1.43-.59-.52 0-1.04.2-1.43.59L10.3 9.45l-7.72 7.72c-.78.78-.78 2.05 0 2.83L4 21.41c.39.39.9.59 1.41.59.51 0 1.02-.2 1.41-.59l7.78-7.78 2.81-2.81c.8-.78.8-2.07 0-2.86zM5.41 20L4 18.59l7.72-7.72 1.47 1.35L5.41 20z\"/>\n",
              "  </svg>\n",
              "      </button>\n",
              "      \n",
              "  <style>\n",
              "    .colab-df-container {\n",
              "      display:flex;\n",
              "      flex-wrap:wrap;\n",
              "      gap: 12px;\n",
              "    }\n",
              "\n",
              "    .colab-df-convert {\n",
              "      background-color: #E8F0FE;\n",
              "      border: none;\n",
              "      border-radius: 50%;\n",
              "      cursor: pointer;\n",
              "      display: none;\n",
              "      fill: #1967D2;\n",
              "      height: 32px;\n",
              "      padding: 0 0 0 0;\n",
              "      width: 32px;\n",
              "    }\n",
              "\n",
              "    .colab-df-convert:hover {\n",
              "      background-color: #E2EBFA;\n",
              "      box-shadow: 0px 1px 2px rgba(60, 64, 67, 0.3), 0px 1px 3px 1px rgba(60, 64, 67, 0.15);\n",
              "      fill: #174EA6;\n",
              "    }\n",
              "\n",
              "    [theme=dark] .colab-df-convert {\n",
              "      background-color: #3B4455;\n",
              "      fill: #D2E3FC;\n",
              "    }\n",
              "\n",
              "    [theme=dark] .colab-df-convert:hover {\n",
              "      background-color: #434B5C;\n",
              "      box-shadow: 0px 1px 3px 1px rgba(0, 0, 0, 0.15);\n",
              "      filter: drop-shadow(0px 1px 2px rgba(0, 0, 0, 0.3));\n",
              "      fill: #FFFFFF;\n",
              "    }\n",
              "  </style>\n",
              "\n",
              "      <script>\n",
              "        const buttonEl =\n",
              "          document.querySelector('#df-6e121f07-5a7c-488e-9b6e-7277c00e9db9 button.colab-df-convert');\n",
              "        buttonEl.style.display =\n",
              "          google.colab.kernel.accessAllowed ? 'block' : 'none';\n",
              "\n",
              "        async function convertToInteractive(key) {\n",
              "          const element = document.querySelector('#df-6e121f07-5a7c-488e-9b6e-7277c00e9db9');\n",
              "          const dataTable =\n",
              "            await google.colab.kernel.invokeFunction('convertToInteractive',\n",
              "                                                     [key], {});\n",
              "          if (!dataTable) return;\n",
              "\n",
              "          const docLinkHtml = 'Like what you see? Visit the ' +\n",
              "            '<a target=\"_blank\" href=https://colab.research.google.com/notebooks/data_table.ipynb>data table notebook</a>'\n",
              "            + ' to learn more about interactive tables.';\n",
              "          element.innerHTML = '';\n",
              "          dataTable['output_type'] = 'display_data';\n",
              "          await google.colab.output.renderOutput(dataTable, element);\n",
              "          const docLink = document.createElement('div');\n",
              "          docLink.innerHTML = docLinkHtml;\n",
              "          element.appendChild(docLink);\n",
              "        }\n",
              "      </script>\n",
              "    </div>\n",
              "  </div>\n",
              "  "
            ],
            "text/plain": [
              "                   uid  ... newweatherfilename\n",
              "0    PrimClass_Everett  ...      weather12.csv\n",
              "1   UnivClass_Clifford  ...       weather2.csv\n",
              "2     Office_Elizabeth  ...      weather22.csv\n",
              "3         Office_Ellie  ...      weather28.csv\n",
              "4  PrimClass_Elisabeth  ...      weather23.csv\n",
              "5      Office_Cristina  ...       weather2.csv\n",
              "6      PrimClass_Jolie  ...       weather1.csv\n",
              "7     PrimClass_Jaylin  ...       weather1.csv\n",
              "8         Office_Jesus  ...       weather1.csv\n",
              "9  PrimClass_Esmeralda  ...      weather17.csv\n",
              "\n",
              "[10 rows x 19 columns]"
            ]
          },
          "metadata": {},
          "execution_count": 3
        }
      ]
    },
    {
      "cell_type": "markdown",
      "metadata": {
        "id": "-9ZtoVcdN7Wp"
      },
      "source": [
        "### Exercise 03.1.1 - Loading Meter Data from Specific Files\n",
        "\n",
        "Sometimes you need to grab and process data only from certain files to analyze. You want to first filter those buildings that have certain attributes.\n"
      ]
    },
    {
      "cell_type": "markdown",
      "metadata": {
        "id": "cAIeD95zd6fx"
      },
      "source": [
        "Use `metadata` to find the specific building that meet the description and retrieve the required information. This code:\n",
        "- Use the `.loc` function to identify the building located in **America/Phoenix**, having **College Laboratory** as `primaryspaceUsage` and having floor area larger than **30000** `sqm`\n",
        "- print out the `uid`, `nickname`, `newweatherfilename` and `yearbuilt` of the building"
      ]
    },
    {
      "cell_type": "code",
      "metadata": {
        "id": "jLh0x4OqJdzc",
        "colab": {
          "base_uri": "https://localhost:8080/",
          "height": 81
        },
        "outputId": "d612dca8-1173-44d4-8fbf-b37496975bac"
      },
      "source": [
        "# Retrieve the required information according to the given conditions\n",
        "# YOUR CODE HERE\n",
        "metadata2 = metadata.loc[(metadata.timezone == 'America/Phoenix') & (metadata.primaryspaceusage == 'College Laboratory') & (metadata.sqm > 30000), \n",
        "             ('uid', 'nickname','newweatherfilename','yearbuilt')]\n",
        "metadata2\n"
      ],
      "execution_count": null,
      "outputs": [
        {
          "output_type": "execute_result",
          "data": {
            "text/html": [
              "\n",
              "  <div id=\"df-ab115d13-cc28-4a45-a613-44d0b63f0c79\">\n",
              "    <div class=\"colab-df-container\">\n",
              "      <div>\n",
              "<style scoped>\n",
              "    .dataframe tbody tr th:only-of-type {\n",
              "        vertical-align: middle;\n",
              "    }\n",
              "\n",
              "    .dataframe tbody tr th {\n",
              "        vertical-align: top;\n",
              "    }\n",
              "\n",
              "    .dataframe thead th {\n",
              "        text-align: right;\n",
              "    }\n",
              "</style>\n",
              "<table border=\"1\" class=\"dataframe\">\n",
              "  <thead>\n",
              "    <tr style=\"text-align: right;\">\n",
              "      <th></th>\n",
              "      <th>uid</th>\n",
              "      <th>nickname</th>\n",
              "      <th>newweatherfilename</th>\n",
              "      <th>yearbuilt</th>\n",
              "    </tr>\n",
              "  </thead>\n",
              "  <tbody>\n",
              "    <tr>\n",
              "      <th>448</th>\n",
              "      <td>UnivLab_Ashlynn</td>\n",
              "      <td>Ashlynn</td>\n",
              "      <td>weather0.csv</td>\n",
              "      <td>2012</td>\n",
              "    </tr>\n",
              "  </tbody>\n",
              "</table>\n",
              "</div>\n",
              "      <button class=\"colab-df-convert\" onclick=\"convertToInteractive('df-ab115d13-cc28-4a45-a613-44d0b63f0c79')\"\n",
              "              title=\"Convert this dataframe to an interactive table.\"\n",
              "              style=\"display:none;\">\n",
              "        \n",
              "  <svg xmlns=\"http://www.w3.org/2000/svg\" height=\"24px\"viewBox=\"0 0 24 24\"\n",
              "       width=\"24px\">\n",
              "    <path d=\"M0 0h24v24H0V0z\" fill=\"none\"/>\n",
              "    <path d=\"M18.56 5.44l.94 2.06.94-2.06 2.06-.94-2.06-.94-.94-2.06-.94 2.06-2.06.94zm-11 1L8.5 8.5l.94-2.06 2.06-.94-2.06-.94L8.5 2.5l-.94 2.06-2.06.94zm10 10l.94 2.06.94-2.06 2.06-.94-2.06-.94-.94-2.06-.94 2.06-2.06.94z\"/><path d=\"M17.41 7.96l-1.37-1.37c-.4-.4-.92-.59-1.43-.59-.52 0-1.04.2-1.43.59L10.3 9.45l-7.72 7.72c-.78.78-.78 2.05 0 2.83L4 21.41c.39.39.9.59 1.41.59.51 0 1.02-.2 1.41-.59l7.78-7.78 2.81-2.81c.8-.78.8-2.07 0-2.86zM5.41 20L4 18.59l7.72-7.72 1.47 1.35L5.41 20z\"/>\n",
              "  </svg>\n",
              "      </button>\n",
              "      \n",
              "  <style>\n",
              "    .colab-df-container {\n",
              "      display:flex;\n",
              "      flex-wrap:wrap;\n",
              "      gap: 12px;\n",
              "    }\n",
              "\n",
              "    .colab-df-convert {\n",
              "      background-color: #E8F0FE;\n",
              "      border: none;\n",
              "      border-radius: 50%;\n",
              "      cursor: pointer;\n",
              "      display: none;\n",
              "      fill: #1967D2;\n",
              "      height: 32px;\n",
              "      padding: 0 0 0 0;\n",
              "      width: 32px;\n",
              "    }\n",
              "\n",
              "    .colab-df-convert:hover {\n",
              "      background-color: #E2EBFA;\n",
              "      box-shadow: 0px 1px 2px rgba(60, 64, 67, 0.3), 0px 1px 3px 1px rgba(60, 64, 67, 0.15);\n",
              "      fill: #174EA6;\n",
              "    }\n",
              "\n",
              "    [theme=dark] .colab-df-convert {\n",
              "      background-color: #3B4455;\n",
              "      fill: #D2E3FC;\n",
              "    }\n",
              "\n",
              "    [theme=dark] .colab-df-convert:hover {\n",
              "      background-color: #434B5C;\n",
              "      box-shadow: 0px 1px 3px 1px rgba(0, 0, 0, 0.15);\n",
              "      filter: drop-shadow(0px 1px 2px rgba(0, 0, 0, 0.3));\n",
              "      fill: #FFFFFF;\n",
              "    }\n",
              "  </style>\n",
              "\n",
              "      <script>\n",
              "        const buttonEl =\n",
              "          document.querySelector('#df-ab115d13-cc28-4a45-a613-44d0b63f0c79 button.colab-df-convert');\n",
              "        buttonEl.style.display =\n",
              "          google.colab.kernel.accessAllowed ? 'block' : 'none';\n",
              "\n",
              "        async function convertToInteractive(key) {\n",
              "          const element = document.querySelector('#df-ab115d13-cc28-4a45-a613-44d0b63f0c79');\n",
              "          const dataTable =\n",
              "            await google.colab.kernel.invokeFunction('convertToInteractive',\n",
              "                                                     [key], {});\n",
              "          if (!dataTable) return;\n",
              "\n",
              "          const docLinkHtml = 'Like what you see? Visit the ' +\n",
              "            '<a target=\"_blank\" href=https://colab.research.google.com/notebooks/data_table.ipynb>data table notebook</a>'\n",
              "            + ' to learn more about interactive tables.';\n",
              "          element.innerHTML = '';\n",
              "          dataTable['output_type'] = 'display_data';\n",
              "          await google.colab.output.renderOutput(dataTable, element);\n",
              "          const docLink = document.createElement('div');\n",
              "          docLink.innerHTML = docLinkHtml;\n",
              "          element.appendChild(docLink);\n",
              "        }\n",
              "      </script>\n",
              "    </div>\n",
              "  </div>\n",
              "  "
            ],
            "text/plain": [
              "                 uid nickname newweatherfilename yearbuilt\n",
              "448  UnivLab_Ashlynn  Ashlynn       weather0.csv      2012"
            ]
          },
          "metadata": {},
          "execution_count": 7
        }
      ]
    },
    {
      "cell_type": "markdown",
      "metadata": {
        "id": "4iXg1vBI2sM1"
      },
      "source": [
        "Now, use the `read_csv` function to read the following time-series data as Pandas DataFrame: \n",
        "1. The meter data file of the identified building (`uid` in the `filtered_metadata`); \n",
        "2. The `TemperatureC` and `Humidity` of the identified building (`newweatherfilename` in the `filtered_metadata`);\n",
        "\n",
        "Tips:\n",
        "- Be careful about the datatype when getting the values in `filtered_meterdata`\n",
        "- The weather and meter files are in different folders, and the meter file names need a `.csv` in addition to the name in order to be loaded\n",
        "- Set the timestamp column as index (`index_col`)\n",
        "- Have the timestamp as datetime data type (`parse_dates`)\n",
        "- Keep only the `TemperatureC` and `Humidity` for weather data (`usecols`)"
      ]
    },
    {
      "cell_type": "code",
      "metadata": {
        "id": "n7dPg30HN61z",
        "colab": {
          "base_uri": "https://localhost:8080/"
        },
        "outputId": "47efe4e9-7f05-4296-9eb6-f0316ff85e63"
      },
      "source": [
        "from pandas.io.parsers.readers import read_csv\n",
        "# Load the specific energy consumption and weather data as identified \n",
        "# YOUR CODE HERE\n",
        "os.chdir(\"/content/gdrive/My Drive/EDX Data Science for Construction, Architecture and Engineering/3 - Construction - Pandas Fundamentals/meter_data/\")\n",
        "meterUlabAsh = pd.read_csv('UnivLab_Ashlynn.csv', index_col='timestamp', parse_dates=True)\n",
        "meterUlabAsh.head(10)\n",
        "\n",
        "os.chdir(\"/content/gdrive/My Drive/EDX Data Science for Construction, Architecture and Engineering/3 - Construction - Pandas Fundamentals/weather_data/\")\n",
        "weather_data0 = read_csv('weather0.csv', index_col='timestamp', parse_dates=True, usecols=['timestamp','TemperatureC','Humidity'])\n",
        "weather_data0.info\n"
      ],
      "execution_count": 25,
      "outputs": [
        {
          "output_type": "execute_result",
          "data": {
            "text/plain": [
              "<bound method DataFrame.info of                      TemperatureC  Humidity\n",
              "timestamp                                  \n",
              "2015-01-01 00:51:00           2.8      79.0\n",
              "2015-01-01 01:47:00           3.0      75.0\n",
              "2015-01-01 01:51:00           2.8      79.0\n",
              "2015-01-01 02:51:00           2.8      76.0\n",
              "2015-01-01 03:51:00           2.2      82.0\n",
              "...                           ...       ...\n",
              "2015-12-31 19:51:00          12.2      28.0\n",
              "2015-12-31 20:51:00          11.7      27.0\n",
              "2015-12-31 21:51:00          10.0      31.0\n",
              "2015-12-31 22:51:00           9.4      33.0\n",
              "2015-12-31 23:51:00           7.2      40.0\n",
              "\n",
              "[8999 rows x 2 columns]>"
            ]
          },
          "metadata": {},
          "execution_count": 25
        }
      ]
    },
    {
      "cell_type": "markdown",
      "metadata": {
        "id": "UmwJi0U5O9az"
      },
      "source": [
        "### Exercise 03.1.2 - Resampling Data\n",
        "\n",
        "As discussed in the videos, very often your IoT data will be at a higher resolution than what you need. Sometimes, the data was not logged at the exact moment as desired and therefore has various timestamps. In a spreadsheet, dealing with these issues can be tricky. With `Pandas`, its much more straightforward.\n",
        "\n",
        "In this exercise, use the DataFrames of meter and weather data you created to: \n",
        "1. create a `all_data` dataframe that holds both the meter data and the weather data at hourly resolution (the resulting dataframe should have a `8760×3` shape)\n",
        "2. Calculate the weekly **total** energy consumptions and weekly **average** temperature and humidity, save them in a DataFrame called `all_data_weekly` (the resulting dataframe should have a `53×3` shape)\n",
        "\n",
        "Hint: \n",
        "- use `.resample` to unify the timestamp of the two dataframe before `concat` them\n",
        "- be careful about which axis to `concat`\n",
        "- the Pandas `resample` function can be used for different basic calculation (e.g. `mean`, `sum`) at different time resolution (e.g. `'H'`, `'M'`)"
      ]
    },
    {
      "cell_type": "code",
      "metadata": {
        "id": "h_aEE57Gt6hp"
      },
      "source": [
        "# properly resample and concatenate the data\n",
        "# YOUR CODE HERE\n"
      ],
      "execution_count": null,
      "outputs": []
    },
    {
      "cell_type": "code",
      "metadata": {
        "id": "jOEJ7TVGK8I2"
      },
      "source": [
        "# Do the weekly calculation\n",
        "# YOUR CODE HERE\n"
      ],
      "execution_count": null,
      "outputs": []
    },
    {
      "cell_type": "markdown",
      "metadata": {
        "id": "FSHeXl3unqyg"
      },
      "source": [
        "### Exercise 03.1.3 - Plotting\n",
        "\n",
        "One of the most useful things to do in the early phase of the data analysis process is to visualize the data to find interesting behavior, outliers, etc.\n",
        "\n",
        "In this exercise, use the Pandas `truncate` and `plot` function to plot the bar chart of weekly temperature and energy consumption of the building during July to September 2015.\n",
        "\n",
        "Here are some tips that you can use in your code:\n",
        "- The `truncate` function returns the dataframe between the `before` and `after` date\n",
        "- The pandas `plot.bar` function returns a `matplotlib.axes.Axes` object, which can be referred to as place to plot\n",
        "- The temperature and energy data are in different range. Therefore, it is better to have two y axis (`ax`), so that the both trends are clearly shown\n",
        "- A proper `legend` makes a plot with more than one lines more legible\n",
        "- Axis ticks of larger `fontsize` are also preferred\n",
        "- The appearance of the bars can be adjusted by `width` and `position`"
      ]
    },
    {
      "cell_type": "code",
      "metadata": {
        "id": "4JktsQFuO8mr"
      },
      "source": [
        "# Process and visualize the data as required\n",
        "# YOUR CODE HERE\n"
      ],
      "execution_count": null,
      "outputs": []
    },
    {
      "cell_type": "markdown",
      "metadata": {
        "id": "LduJIHoxTUaZ"
      },
      "source": [
        "### Please write down the week with the abnormal average temperature (in the form of '2015-XX-XX') as the answer for the quiz question."
      ]
    },
    {
      "cell_type": "code",
      "metadata": {
        "id": "JfVYvWxrTfrd"
      },
      "source": [
        ""
      ],
      "execution_count": null,
      "outputs": []
    }
  ]
}
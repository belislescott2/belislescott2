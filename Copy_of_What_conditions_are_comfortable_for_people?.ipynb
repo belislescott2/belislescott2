{
  "nbformat": 4,
  "nbformat_minor": 0,
  "metadata": {
    "colab": {
      "name": "Copy of What conditions are comfortable for people?.ipynb",
      "provenance": [],
      "collapsed_sections": [],
      "toc_visible": true,
      "include_colab_link": true
    },
    "kernelspec": {
      "name": "python3",
      "display_name": "Python 3"
    }
  },
  "cells": [
    {
      "cell_type": "markdown",
      "metadata": {
        "id": "view-in-github",
        "colab_type": "text"
      },
      "source": [
        "<a href=\"https://colab.research.google.com/github/belislescott2/belislescott2/blob/main/Copy_of_What_conditions_are_comfortable_for_people%3F.ipynb\" target=\"_parent\"><img src=\"https://colab.research.google.com/assets/colab-badge.svg\" alt=\"Open In Colab\"/></a>"
      ]
    },
    {
      "cell_type": "markdown",
      "metadata": {
        "id": "OlU-bJaywWW4"
      },
      "source": [
        "# What conditions are comfortable for people?\n",
        "\n",
        "This notebook is designed to be a practical investigation of the what conditions influence the comfort of occupants in the various contexts that were tested in the ASHRAE Thermal Comfort Database II studies.\n",
        "\n",
        "We will go through and investigate how temperature, humidity, air movement, and other factors influence comfort. In this analysis, we will use a subset of the larger data set that can be found on the project website: http://www.comfortdatabase.com/\n",
        "\n",
        "We will use the **Seaborn** library for this task: https://seaborn.pydata.org/\n"
      ]
    },
    {
      "cell_type": "code",
      "metadata": {
        "id": "9gqSg3Y3vh6Y"
      },
      "source": [
        "import pandas as pd\n",
        "from google.colab import drive\n",
        "import os\n",
        "import seaborn as sns\n",
        "import matplotlib.pyplot as plt"
      ],
      "execution_count": 1,
      "outputs": []
    },
    {
      "cell_type": "code",
      "metadata": {
        "id": "nbbhb3dxwVfY"
      },
      "source": [
        "%matplotlib inline"
      ],
      "execution_count": 2,
      "outputs": []
    },
    {
      "cell_type": "code",
      "metadata": {
        "id": "EOOichtswdRV",
        "colab": {
          "base_uri": "https://localhost:8080/"
        },
        "outputId": "81d9f041-0ebd-45f3-cac7-4787c62e98ed"
      },
      "source": [
        "drive.mount('/content/gdrive')\n",
        "os.chdir(\"/content/gdrive/My Drive/EDX Data Science for Construction, Architecture and Engineering/4 - Operations - Statistics and Visualization/\")"
      ],
      "execution_count": 3,
      "outputs": [
        {
          "output_type": "stream",
          "name": "stdout",
          "text": [
            "Mounted at /content/gdrive\n"
          ]
        }
      ]
    },
    {
      "cell_type": "code",
      "metadata": {
        "id": "kiFndZDSwp2c"
      },
      "source": [
        "ieq_data = pd.read_csv(\"Copy of ashrae_thermal_comfort_database_2.csv\", index_col='Unnamed: 0')"
      ],
      "execution_count": 5,
      "outputs": []
    },
    {
      "cell_type": "code",
      "metadata": {
        "id": "DDMYk1yRwe1O",
        "colab": {
          "base_uri": "https://localhost:8080/",
          "height": 652
        },
        "outputId": "a47d3833-e10d-4e6b-ea72-7a82b706a86a"
      },
      "source": [
        "ieq_data.head()"
      ],
      "execution_count": 6,
      "outputs": [
        {
          "output_type": "execute_result",
          "data": {
            "text/plain": [
              "                                 Publication (Citation)    Year  Season  \\\n",
              "2233  Indraganti, Madhavi, et al. \"Adaptive model of...  2012.0  Winter   \n",
              "2234  Indraganti, Madhavi, et al. \"Adaptive model of...  2012.0  Winter   \n",
              "2235  Indraganti, Madhavi, et al. \"Adaptive model of...  2012.0  Winter   \n",
              "2236  Indraganti, Madhavi, et al. \"Adaptive model of...  2012.0  Winter   \n",
              "2237  Indraganti, Madhavi, et al. \"Adaptive model of...  2012.0  Winter   \n",
              "\n",
              "                   Climate     City Country Building type  \\\n",
              "2233  Tropical wet savanna  Chennai   India        Office   \n",
              "2234  Tropical wet savanna  Chennai   India        Office   \n",
              "2235  Tropical wet savanna  Chennai   India        Office   \n",
              "2236  Tropical wet savanna  Chennai   India        Office   \n",
              "2237  Tropical wet savanna  Chennai   India        Office   \n",
              "\n",
              "     Cooling startegy_building level     Sex  Thermal sensation   Clo  Met  \\\n",
              "2233                      Mixed Mode  Female               -2.0  0.75  1.0   \n",
              "2234                      Mixed Mode    Male               -1.0  0.64  1.0   \n",
              "2235                      Mixed Mode    Male               -2.0  0.64  1.0   \n",
              "2236                      Mixed Mode  Female               -2.0  0.75  1.0   \n",
              "2237                      Mixed Mode    Male                0.0  0.72  1.0   \n",
              "\n",
              "      Air temperature (C)  Relative humidity (%)  Air velocity (m/s)  \\\n",
              "2233                 25.2                   64.0                 0.1   \n",
              "2234                 25.2                   64.0                 0.1   \n",
              "2235                 25.2                   64.0                 0.1   \n",
              "2236                 25.2                   64.0                 0.1   \n",
              "2237                 25.2                   64.0                 0.1   \n",
              "\n",
              "      ThermalSensation_rounded  \n",
              "2233                      -2.0  \n",
              "2234                      -1.0  \n",
              "2235                      -2.0  \n",
              "2236                      -2.0  \n",
              "2237                       0.0  "
            ],
            "text/html": [
              "\n",
              "  <div id=\"df-627089db-5e5a-4265-9a43-b8a931c5ec85\">\n",
              "    <div class=\"colab-df-container\">\n",
              "      <div>\n",
              "<style scoped>\n",
              "    .dataframe tbody tr th:only-of-type {\n",
              "        vertical-align: middle;\n",
              "    }\n",
              "\n",
              "    .dataframe tbody tr th {\n",
              "        vertical-align: top;\n",
              "    }\n",
              "\n",
              "    .dataframe thead th {\n",
              "        text-align: right;\n",
              "    }\n",
              "</style>\n",
              "<table border=\"1\" class=\"dataframe\">\n",
              "  <thead>\n",
              "    <tr style=\"text-align: right;\">\n",
              "      <th></th>\n",
              "      <th>Publication (Citation)</th>\n",
              "      <th>Year</th>\n",
              "      <th>Season</th>\n",
              "      <th>Climate</th>\n",
              "      <th>City</th>\n",
              "      <th>Country</th>\n",
              "      <th>Building type</th>\n",
              "      <th>Cooling startegy_building level</th>\n",
              "      <th>Sex</th>\n",
              "      <th>Thermal sensation</th>\n",
              "      <th>Clo</th>\n",
              "      <th>Met</th>\n",
              "      <th>Air temperature (C)</th>\n",
              "      <th>Relative humidity (%)</th>\n",
              "      <th>Air velocity (m/s)</th>\n",
              "      <th>ThermalSensation_rounded</th>\n",
              "    </tr>\n",
              "  </thead>\n",
              "  <tbody>\n",
              "    <tr>\n",
              "      <th>2233</th>\n",
              "      <td>Indraganti, Madhavi, et al. \"Adaptive model of...</td>\n",
              "      <td>2012.0</td>\n",
              "      <td>Winter</td>\n",
              "      <td>Tropical wet savanna</td>\n",
              "      <td>Chennai</td>\n",
              "      <td>India</td>\n",
              "      <td>Office</td>\n",
              "      <td>Mixed Mode</td>\n",
              "      <td>Female</td>\n",
              "      <td>-2.0</td>\n",
              "      <td>0.75</td>\n",
              "      <td>1.0</td>\n",
              "      <td>25.2</td>\n",
              "      <td>64.0</td>\n",
              "      <td>0.1</td>\n",
              "      <td>-2.0</td>\n",
              "    </tr>\n",
              "    <tr>\n",
              "      <th>2234</th>\n",
              "      <td>Indraganti, Madhavi, et al. \"Adaptive model of...</td>\n",
              "      <td>2012.0</td>\n",
              "      <td>Winter</td>\n",
              "      <td>Tropical wet savanna</td>\n",
              "      <td>Chennai</td>\n",
              "      <td>India</td>\n",
              "      <td>Office</td>\n",
              "      <td>Mixed Mode</td>\n",
              "      <td>Male</td>\n",
              "      <td>-1.0</td>\n",
              "      <td>0.64</td>\n",
              "      <td>1.0</td>\n",
              "      <td>25.2</td>\n",
              "      <td>64.0</td>\n",
              "      <td>0.1</td>\n",
              "      <td>-1.0</td>\n",
              "    </tr>\n",
              "    <tr>\n",
              "      <th>2235</th>\n",
              "      <td>Indraganti, Madhavi, et al. \"Adaptive model of...</td>\n",
              "      <td>2012.0</td>\n",
              "      <td>Winter</td>\n",
              "      <td>Tropical wet savanna</td>\n",
              "      <td>Chennai</td>\n",
              "      <td>India</td>\n",
              "      <td>Office</td>\n",
              "      <td>Mixed Mode</td>\n",
              "      <td>Male</td>\n",
              "      <td>-2.0</td>\n",
              "      <td>0.64</td>\n",
              "      <td>1.0</td>\n",
              "      <td>25.2</td>\n",
              "      <td>64.0</td>\n",
              "      <td>0.1</td>\n",
              "      <td>-2.0</td>\n",
              "    </tr>\n",
              "    <tr>\n",
              "      <th>2236</th>\n",
              "      <td>Indraganti, Madhavi, et al. \"Adaptive model of...</td>\n",
              "      <td>2012.0</td>\n",
              "      <td>Winter</td>\n",
              "      <td>Tropical wet savanna</td>\n",
              "      <td>Chennai</td>\n",
              "      <td>India</td>\n",
              "      <td>Office</td>\n",
              "      <td>Mixed Mode</td>\n",
              "      <td>Female</td>\n",
              "      <td>-2.0</td>\n",
              "      <td>0.75</td>\n",
              "      <td>1.0</td>\n",
              "      <td>25.2</td>\n",
              "      <td>64.0</td>\n",
              "      <td>0.1</td>\n",
              "      <td>-2.0</td>\n",
              "    </tr>\n",
              "    <tr>\n",
              "      <th>2237</th>\n",
              "      <td>Indraganti, Madhavi, et al. \"Adaptive model of...</td>\n",
              "      <td>2012.0</td>\n",
              "      <td>Winter</td>\n",
              "      <td>Tropical wet savanna</td>\n",
              "      <td>Chennai</td>\n",
              "      <td>India</td>\n",
              "      <td>Office</td>\n",
              "      <td>Mixed Mode</td>\n",
              "      <td>Male</td>\n",
              "      <td>0.0</td>\n",
              "      <td>0.72</td>\n",
              "      <td>1.0</td>\n",
              "      <td>25.2</td>\n",
              "      <td>64.0</td>\n",
              "      <td>0.1</td>\n",
              "      <td>0.0</td>\n",
              "    </tr>\n",
              "  </tbody>\n",
              "</table>\n",
              "</div>\n",
              "      <button class=\"colab-df-convert\" onclick=\"convertToInteractive('df-627089db-5e5a-4265-9a43-b8a931c5ec85')\"\n",
              "              title=\"Convert this dataframe to an interactive table.\"\n",
              "              style=\"display:none;\">\n",
              "        \n",
              "  <svg xmlns=\"http://www.w3.org/2000/svg\" height=\"24px\"viewBox=\"0 0 24 24\"\n",
              "       width=\"24px\">\n",
              "    <path d=\"M0 0h24v24H0V0z\" fill=\"none\"/>\n",
              "    <path d=\"M18.56 5.44l.94 2.06.94-2.06 2.06-.94-2.06-.94-.94-2.06-.94 2.06-2.06.94zm-11 1L8.5 8.5l.94-2.06 2.06-.94-2.06-.94L8.5 2.5l-.94 2.06-2.06.94zm10 10l.94 2.06.94-2.06 2.06-.94-2.06-.94-.94-2.06-.94 2.06-2.06.94z\"/><path d=\"M17.41 7.96l-1.37-1.37c-.4-.4-.92-.59-1.43-.59-.52 0-1.04.2-1.43.59L10.3 9.45l-7.72 7.72c-.78.78-.78 2.05 0 2.83L4 21.41c.39.39.9.59 1.41.59.51 0 1.02-.2 1.41-.59l7.78-7.78 2.81-2.81c.8-.78.8-2.07 0-2.86zM5.41 20L4 18.59l7.72-7.72 1.47 1.35L5.41 20z\"/>\n",
              "  </svg>\n",
              "      </button>\n",
              "      \n",
              "  <style>\n",
              "    .colab-df-container {\n",
              "      display:flex;\n",
              "      flex-wrap:wrap;\n",
              "      gap: 12px;\n",
              "    }\n",
              "\n",
              "    .colab-df-convert {\n",
              "      background-color: #E8F0FE;\n",
              "      border: none;\n",
              "      border-radius: 50%;\n",
              "      cursor: pointer;\n",
              "      display: none;\n",
              "      fill: #1967D2;\n",
              "      height: 32px;\n",
              "      padding: 0 0 0 0;\n",
              "      width: 32px;\n",
              "    }\n",
              "\n",
              "    .colab-df-convert:hover {\n",
              "      background-color: #E2EBFA;\n",
              "      box-shadow: 0px 1px 2px rgba(60, 64, 67, 0.3), 0px 1px 3px 1px rgba(60, 64, 67, 0.15);\n",
              "      fill: #174EA6;\n",
              "    }\n",
              "\n",
              "    [theme=dark] .colab-df-convert {\n",
              "      background-color: #3B4455;\n",
              "      fill: #D2E3FC;\n",
              "    }\n",
              "\n",
              "    [theme=dark] .colab-df-convert:hover {\n",
              "      background-color: #434B5C;\n",
              "      box-shadow: 0px 1px 3px 1px rgba(0, 0, 0, 0.15);\n",
              "      filter: drop-shadow(0px 1px 2px rgba(0, 0, 0, 0.3));\n",
              "      fill: #FFFFFF;\n",
              "    }\n",
              "  </style>\n",
              "\n",
              "      <script>\n",
              "        const buttonEl =\n",
              "          document.querySelector('#df-627089db-5e5a-4265-9a43-b8a931c5ec85 button.colab-df-convert');\n",
              "        buttonEl.style.display =\n",
              "          google.colab.kernel.accessAllowed ? 'block' : 'none';\n",
              "\n",
              "        async function convertToInteractive(key) {\n",
              "          const element = document.querySelector('#df-627089db-5e5a-4265-9a43-b8a931c5ec85');\n",
              "          const dataTable =\n",
              "            await google.colab.kernel.invokeFunction('convertToInteractive',\n",
              "                                                     [key], {});\n",
              "          if (!dataTable) return;\n",
              "\n",
              "          const docLinkHtml = 'Like what you see? Visit the ' +\n",
              "            '<a target=\"_blank\" href=https://colab.research.google.com/notebooks/data_table.ipynb>data table notebook</a>'\n",
              "            + ' to learn more about interactive tables.';\n",
              "          element.innerHTML = '';\n",
              "          dataTable['output_type'] = 'display_data';\n",
              "          await google.colab.output.renderOutput(dataTable, element);\n",
              "          const docLink = document.createElement('div');\n",
              "          docLink.innerHTML = docLinkHtml;\n",
              "          element.appendChild(docLink);\n",
              "        }\n",
              "      </script>\n",
              "    </div>\n",
              "  </div>\n",
              "  "
            ]
          },
          "metadata": {},
          "execution_count": 6
        }
      ]
    },
    {
      "cell_type": "code",
      "metadata": {
        "id": "luwAVCWW9QKT",
        "colab": {
          "base_uri": "https://localhost:8080/"
        },
        "outputId": "76c78a24-bec3-4239-e817-3ebcb4610398"
      },
      "source": [
        "ieq_data.info()"
      ],
      "execution_count": 7,
      "outputs": [
        {
          "output_type": "stream",
          "name": "stdout",
          "text": [
            "<class 'pandas.core.frame.DataFrame'>\n",
            "Int64Index: 43448 entries, 2233 to 104033\n",
            "Data columns (total 16 columns):\n",
            " #   Column                           Non-Null Count  Dtype  \n",
            "---  ------                           --------------  -----  \n",
            " 0   Publication (Citation)           43448 non-null  object \n",
            " 1   Year                             43448 non-null  float64\n",
            " 2   Season                           43448 non-null  object \n",
            " 3   Climate                          43448 non-null  object \n",
            " 4   City                             43448 non-null  object \n",
            " 5   Country                          43448 non-null  object \n",
            " 6   Building type                    43448 non-null  object \n",
            " 7   Cooling startegy_building level  43448 non-null  object \n",
            " 8   Sex                              43448 non-null  object \n",
            " 9   Thermal sensation                43448 non-null  float64\n",
            " 10  Clo                              43448 non-null  float64\n",
            " 11  Met                              43448 non-null  float64\n",
            " 12  Air temperature (C)              43448 non-null  float64\n",
            " 13  Relative humidity (%)            43448 non-null  float64\n",
            " 14  Air velocity (m/s)               43448 non-null  float64\n",
            " 15  ThermalSensation_rounded         43448 non-null  float64\n",
            "dtypes: float64(8), object(8)\n",
            "memory usage: 5.6+ MB\n"
          ]
        }
      ]
    },
    {
      "cell_type": "markdown",
      "metadata": {
        "id": "xKrqkuZpGx0b"
      },
      "source": [
        "# Are the conditions that influence people's comfort?\n",
        "\n",
        "Is it air temperature, humidity, air movement? Other stuff?\n",
        "\n",
        "Let's use box plots to investigate!"
      ]
    },
    {
      "cell_type": "code",
      "metadata": {
        "id": "gKYBHL6DwnZg",
        "colab": {
          "base_uri": "https://localhost:8080/",
          "height": 623
        },
        "outputId": "a4c4ea44-531d-4b14-cf1f-fbd36ceb5c8f"
      },
      "source": [
        "fig, ax = plt.subplots()\n",
        "# the size of A4 paper\n",
        "fig.set_size_inches(10,10)\n",
        "sns.boxplot(x=\"ThermalSensation_rounded\", y=\"Air temperature (C)\", data=ieq_data)"
      ],
      "execution_count": 8,
      "outputs": [
        {
          "output_type": "execute_result",
          "data": {
            "text/plain": [
              "<matplotlib.axes._subplots.AxesSubplot at 0x7f494ef68ad0>"
            ]
          },
          "metadata": {},
          "execution_count": 8
        },
        {
          "output_type": "display_data",
          "data": {
            "text/plain": [
              "<Figure size 720x720 with 1 Axes>"
            ],
            "image/png": "[encoded data removed]"
          },
          "metadata": {
            "needs_background": "light"
          }
        }
      ]
    },
    {
      "cell_type": "code",
      "metadata": {
        "id": "6jFfbw1gJ88C",
        "colab": {
          "base_uri": "https://localhost:8080/",
          "height": 623
        },
        "outputId": "844288ca-65cb-45a2-b504-c277166ab827"
      },
      "source": [
        "fig, ax = plt.subplots()\n",
        "# the size of A4 paper\n",
        "fig.set_size_inches(10,10)\n",
        "sns.boxplot(x=\"ThermalSensation_rounded\", y=\"Relative humidity (%)\", data=ieq_data)"
      ],
      "execution_count": 9,
      "outputs": [
        {
          "output_type": "execute_result",
          "data": {
            "text/plain": [
              "<matplotlib.axes._subplots.AxesSubplot at 0x7f494ee72050>"
            ]
          },
          "metadata": {},
          "execution_count": 9
        },
        {
          "output_type": "display_data",
          "data": {
            "text/plain": [
              "<Figure size 720x720 with 1 Axes>"
            ],
            "image/png": "[encoded data removed]"
          },
          "metadata": {
            "needs_background": "light"
          }
        }
      ]
    },
    {
      "cell_type": "code",
      "metadata": {
        "id": "tbimb2GaKEVK"
      },
      "source": [
        "fig, ax = plt.subplots()\n",
        "# the size of A4 paper\n",
        "fig.set_size_inches(10,10)\n",
        "sns.boxplot(x=\"ThermalSensation_rounded\", y=\"Air velocity (m/s)\", data=ieq_data)"
      ],
      "execution_count": null,
      "outputs": []
    },
    {
      "cell_type": "markdown",
      "metadata": {
        "id": "PpSxLTm_G800"
      },
      "source": [
        "# How about personal attributes? Do they have an impact?\n",
        "\n",
        "Let's use box plots, but use the `hue=` attribute to add another dimension to the analysis."
      ]
    },
    {
      "cell_type": "code",
      "metadata": {
        "id": "EBQLWLgzHQS1"
      },
      "source": [
        "ieq_data.info()"
      ],
      "execution_count": null,
      "outputs": []
    },
    {
      "cell_type": "code",
      "metadata": {
        "id": "x3QgMWgkwwmf"
      },
      "source": [
        "fig, ax = plt.subplots()\n",
        "# the size of A4 paper\n",
        "fig.set_size_inches(10,10)\n",
        "sns.boxplot(x=\"ThermalSensation_rounded\", y=\"Air temperature (C)\", hue=\"Sex\", data=ieq_data)"
      ],
      "execution_count": null,
      "outputs": []
    },
    {
      "cell_type": "markdown",
      "metadata": {
        "id": "x854RgpyHpZm"
      },
      "source": [
        "## Using the `.round()` function\n",
        "\n",
        "Let's use the `.round()` function to create a more categorical set of options for metabolism and clothing levels"
      ]
    },
    {
      "cell_type": "code",
      "metadata": {
        "id": "cguhooGNH6b6"
      },
      "source": [
        "ieq_data[\"Met_rounded\"]= ieq_data[\"Met\"].round(0)\n",
        "ieq_data[\"Clo_rounded\"]= ieq_data[\"Clo\"].round(0)"
      ],
      "execution_count": null,
      "outputs": []
    },
    {
      "cell_type": "code",
      "metadata": {
        "id": "r2F7QeItIFgV"
      },
      "source": [
        "ieq_data.info()"
      ],
      "execution_count": null,
      "outputs": []
    },
    {
      "cell_type": "code",
      "metadata": {
        "id": "TZzHHoEEHZkj"
      },
      "source": [
        "fig, ax = plt.subplots()\n",
        "# the size of A4 paper\n",
        "fig.set_size_inches(10,10)\n",
        "sns.boxplot(x=\"ThermalSensation_rounded\", y=\"Air temperature (C)\", hue=\"Met_rounded\", data=ieq_data)"
      ],
      "execution_count": null,
      "outputs": []
    },
    {
      "cell_type": "code",
      "metadata": {
        "id": "1eWF5SYyIQ6r"
      },
      "source": [
        "fig, ax = plt.subplots()\n",
        "# the size of A4 paper\n",
        "fig.set_size_inches(10,10)\n",
        "sns.boxplot(x=\"ThermalSensation_rounded\", y=\"Air temperature (C)\", hue=\"Clo_rounded\", data=ieq_data)"
      ],
      "execution_count": null,
      "outputs": []
    },
    {
      "cell_type": "markdown",
      "metadata": {
        "id": "NMhr3AEMGh38"
      },
      "source": [
        "# How does the type of building or its systems influence people's comfort?\n",
        "\n",
        "Let's use horizontal box plots to get a sense of the attributes of the built environment and how they influence comfort."
      ]
    },
    {
      "cell_type": "code",
      "metadata": {
        "id": "H6tN0HDOGuIN"
      },
      "source": [
        "ieq_data.info()"
      ],
      "execution_count": null,
      "outputs": []
    },
    {
      "cell_type": "code",
      "metadata": {
        "id": "E4AN24E6xIG0"
      },
      "source": [
        "fig, ax = plt.subplots()\n",
        "# the size of A4 paper\n",
        "fig.set_size_inches(10,10)\n",
        "sns.boxplot(y=\"Building type\", x=\"Thermal sensation\",\n",
        "             palette=\"RdBu_r\",\n",
        "            data=ieq_data[[\"Building type\",\"Thermal sensation\",\"Sex\"]].dropna())\n",
        "\n",
        "sns.despine(offset=10, trim=True)"
      ],
      "execution_count": null,
      "outputs": []
    },
    {
      "cell_type": "code",
      "metadata": {
        "id": "c61kyfS99FPw"
      },
      "source": [
        "fig, ax = plt.subplots()\n",
        "# the size of A4 paper\n",
        "fig.set_size_inches(10,10)\n",
        "sns.boxplot(y=\"Cooling startegy_building level\", x=\"Thermal sensation\",\n",
        "             palette=\"RdBu_r\",\n",
        "            data=ieq_data[[\"Cooling startegy_building level\",\"Thermal sensation\"]].dropna())\n",
        "\n",
        "sns.despine(offset=10, trim=True)"
      ],
      "execution_count": null,
      "outputs": []
    },
    {
      "cell_type": "code",
      "metadata": {
        "id": "zbOKzUeTI24G"
      },
      "source": [
        "fig, ax = plt.subplots()\n",
        "# the size of A4 paper\n",
        "fig.set_size_inches(10,10)\n",
        "sns.boxplot(y=\"Season\", x=\"Thermal sensation\",\n",
        "             palette=\"RdBu_r\",\n",
        "            data=ieq_data[[\"Season\",\"Thermal sensation\"]].dropna())\n",
        "\n",
        "sns.despine(offset=10, trim=True)"
      ],
      "execution_count": null,
      "outputs": []
    },
    {
      "cell_type": "markdown",
      "metadata": {
        "id": "F2Et-eKEGOL1"
      },
      "source": [
        "# How does the country someone is from influence how they perceive comfort?\n",
        "\n",
        "Let's use some more advanced box plot techniques to compare the different countries, climates, and other geographical or cultural aspects"
      ]
    },
    {
      "cell_type": "code",
      "metadata": {
        "id": "x7hcWgMwGdi0"
      },
      "source": [
        "ieq_data.info()"
      ],
      "execution_count": null,
      "outputs": []
    },
    {
      "cell_type": "code",
      "metadata": {
        "id": "zX7xiqK79kqf"
      },
      "source": [
        "fig, ax = plt.subplots()\n",
        "# the size of A4 paper\n",
        "fig.set_size_inches(15,20)\n",
        "sns.boxplot(y=\"Country\", x=\"Air temperature (C)\",\n",
        "            hue=\"ThermalSensation_rounded\", palette=\"RdBu_r\",\n",
        "            data=ieq_data[[\"Country\",\"Air temperature (C)\",\"ThermalSensation_rounded\"]].dropna())\n",
        "plt.title(\"Thermal Sensation\")\n",
        "sns.despine(offset=10, trim=True)"
      ],
      "execution_count": null,
      "outputs": []
    },
    {
      "cell_type": "code",
      "metadata": {
        "id": "5JWqbTayJS1F"
      },
      "source": [
        "fig, ax = plt.subplots()\n",
        "# the size of A4 paper\n",
        "fig.set_size_inches(15,40)\n",
        "sns.boxplot(y=\"City\", x=\"Air temperature (C)\",\n",
        "            hue=\"ThermalSensation_rounded\", palette=\"RdBu_r\",\n",
        "            data=ieq_data[[\"City\",\"Air temperature (C)\",\"ThermalSensation_rounded\"]].dropna())\n",
        "plt.title(\"Thermal Sensation\")\n",
        "sns.despine(offset=10, trim=True)"
      ],
      "execution_count": null,
      "outputs": []
    },
    {
      "cell_type": "code",
      "metadata": {
        "id": "QZITkEUr9u1r"
      },
      "source": [
        "fig, ax = plt.subplots()\n",
        "# the size of A4 paper\n",
        "fig.set_size_inches(15,20)\n",
        "sns.boxplot(y=\"Climate\", x=\"Air temperature (C)\",\n",
        "            hue=\"ThermalSensation_rounded\", palette=\"RdBu_r\",\n",
        "            data=ieq_data[[\"Climate\",\"Air temperature (C)\",\"ThermalSensation_rounded\"]].dropna())\n",
        "plt.title(\"Thermal Sensation\")\n",
        "sns.despine(offset=10, trim=True)"
      ],
      "execution_count": null,
      "outputs": []
    },
    {
      "cell_type": "code",
      "metadata": {
        "id": "o68biDyi-e7Q"
      },
      "source": [
        "fig, ax = plt.subplots()\n",
        "# the size of A4 paper\n",
        "fig.set_size_inches(12,15)\n",
        "sns.boxplot(y=\"Climate\", x=\"Air temperature (C)\",\n",
        "            hue=\"ThermalSensation_rounded\", palette=\"RdBu_r\",\n",
        "            data=ieq_data[[\"Climate\",\"Air temperature (C)\",\"ThermalSensation_rounded\"]].dropna())\n",
        "\n",
        "sns.despine(offset=10, trim=True)"
      ],
      "execution_count": null,
      "outputs": []
    },
    {
      "cell_type": "markdown",
      "metadata": {
        "id": "i0oJmyQzJgOU"
      },
      "source": [
        "# Using other distribution-based visualizations from Seaborn\n",
        "\n",
        "There are several other graphics that can be used to show distributions using seaborn: https://seaborn.pydata.org/examples/index.html"
      ]
    }
  ]
}
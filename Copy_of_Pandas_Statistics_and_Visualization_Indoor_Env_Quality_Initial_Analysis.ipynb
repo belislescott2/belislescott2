{
  "nbformat": 4,
  "nbformat_minor": 0,
  "metadata": {
    "colab": {
      "name": "Copy of Pandas Statistics and Visualization - Indoor Env Quality Initial Analysis.ipynb",
      "provenance": [],
      "collapsed_sections": [],
      "toc_visible": true,
      "include_colab_link": true
    },
    "kernelspec": {
      "name": "python3",
      "display_name": "Python 3",
      "language": "python"
    }
  },
  "cells": [
    {
      "cell_type": "markdown",
      "metadata": {
        "id": "view-in-github",
        "colab_type": "text"
      },
      "source": [
        "<a href=\"https://colab.research.google.com/github/belislescott2/belislescott2/blob/main/Copy_of_Pandas_Statistics_and_Visualization_Indoor_Env_Quality_Initial_Analysis.ipynb\" target=\"_parent\"><img src=\"https://colab.research.google.com/assets/colab-badge.svg\" alt=\"Open In Colab\"/></a>"
      ]
    },
    {
      "cell_type": "markdown",
      "metadata": {
        "id": "TtKGF1rVLbxV"
      },
      "source": [
        "# IEQ Survey Analysis from the ASHRAE Thermal Comfort Database\n",
        "\n",
        "- Created by Clayton Miller - clayton@nus.edu.sg - miller.clayton@gmail.com\n",
        "\n",
        "In this notebook we will introduce the ASHRAE Thermal Comfort Database II. \n",
        "\n",
        "\n",
        "You can find the interface for extraction of the dataset with various filters possible: http://www.comfortdatabase.com/\n",
        "\n",
        "There is an existing data visualization interface found here: https://cbe-berkeley.shinyapps.io/comfortdatabase/\n",
        "\n",
        "The publication that outlines how the database was created is here: https://www.researchgate.net/publication/325848721_Development_of_the_ASHRAE_Global_Thermal_Comfort_Database_II\n"
      ]
    },
    {
      "cell_type": "markdown",
      "metadata": {
        "id": "vTauV_qG-D9z"
      },
      "source": [
        "### Please note that the data set used in this analysis is a subset of the larger data set from the database -- in order to simply the analysis for demonstration-sake."
      ]
    },
    {
      "cell_type": "markdown",
      "metadata": {
        "id": "d5KBSsTaNHFi"
      },
      "source": [
        "### Goal of the Notebook\n",
        "\n",
        "The goal of this notebook is to introduce various statistics and visualization techniques to analyse data from populations of people. These techniques can be used to understand distributions of objects beyond people -- could be data from BIM models, devices, or other things in the built environment"
      ]
    },
    {
      "cell_type": "code",
      "metadata": {
        "trusted": true,
        "id": "llaRmKs1LbxW"
      },
      "source": [
        "import pandas as pd\n",
        "from google.colab import drive\n",
        "import os\n",
        "import matplotlib.pyplot as plt"
      ],
      "execution_count": null,
      "outputs": []
    },
    {
      "cell_type": "code",
      "metadata": {
        "trusted": true,
        "id": "qTIxxpDzLbxY"
      },
      "source": [
        "%matplotlib inline"
      ],
      "execution_count": null,
      "outputs": []
    },
    {
      "cell_type": "code",
      "metadata": {
        "id": "asS8FvWcLdsW"
      },
      "source": [
        "drive.mount('/content/gdrive')\n",
        "os.chdir(\"/content/gdrive/My Drive/EDX Data Science for Construction, Architecture and Engineering/4 - Operations - Statistics and Visualization/\")"
      ],
      "execution_count": null,
      "outputs": []
    },
    {
      "cell_type": "code",
      "metadata": {
        "trusted": true,
        "id": "mEzbrZwzLbxb"
      },
      "source": [
        "ieq_data = pd.read_csv(\"ashrae_thermal_comfort_database_2.csv\", index_col='Unnamed: 0')"
      ],
      "execution_count": null,
      "outputs": []
    },
    {
      "cell_type": "markdown",
      "metadata": {
        "id": "RqQYPwlyMNWH"
      },
      "source": [
        "Let's take a look what's inside the file included in this repository."
      ]
    },
    {
      "cell_type": "code",
      "metadata": {
        "trusted": true,
        "id": "vaawaP3KLbxd"
      },
      "source": [
        "ieq_data.head()"
      ],
      "execution_count": null,
      "outputs": []
    },
    {
      "cell_type": "markdown",
      "metadata": {
        "id": "RFfX2BgiMSO9"
      },
      "source": [
        "As you can see, there are many more columns in this data set than the IoT data. This data is what we call 'Tabular' data.\n",
        "\n",
        "Let's use the `.info()` view to take a look at the columns available and the number of rows."
      ]
    },
    {
      "cell_type": "code",
      "metadata": {
        "trusted": true,
        "id": "M7QYnx_xLbxh"
      },
      "source": [
        "ieq_data.info()"
      ],
      "execution_count": null,
      "outputs": []
    },
    {
      "cell_type": "markdown",
      "metadata": {
        "id": "hV14lqwgKGPC"
      },
      "source": [
        "# Summarizing Data\n",
        "\n",
        "Statistical resepresentations of populations of data are interesting for data analysts to get a high level overview of what's called **descriptors**. Some are very commonly undestood -- including *mean*, *max*, and *min*. There many other aggregation-based descriptors that can be found in the Pandas Cheat Sheet.\n",
        "\n",
        "https://pandas.pydata.org/Pandas_Cheat_Sheet.pdf"
      ]
    },
    {
      "cell_type": "markdown",
      "metadata": {
        "id": "KWb_CRVp9Um1"
      },
      "source": [
        "## Statistical Descriptors using `.describe()` function\n",
        "\n",
        "You can apply a single function -- `.describe()` that will summarize the most commonly used descriptors"
      ]
    },
    {
      "cell_type": "code",
      "metadata": {
        "id": "evdBNNov90NK"
      },
      "source": [
        "ieq_data.info()"
      ],
      "execution_count": null,
      "outputs": []
    },
    {
      "cell_type": "code",
      "metadata": {
        "id": "0RaSM_9fKLY9"
      },
      "source": [
        "ieq_data.describe()"
      ],
      "execution_count": null,
      "outputs": []
    },
    {
      "cell_type": "markdown",
      "metadata": {
        "id": "VxSwEliVSCqc"
      },
      "source": [
        "You can notice that the function automatically excludes columns that don't include `float` data types. "
      ]
    },
    {
      "cell_type": "markdown",
      "metadata": {
        "id": "ga9nizfiT0GL"
      },
      "source": [
        "## Summary Functions\n",
        "\n",
        "You can implement summary functions that focus on the individual attributes on their own."
      ]
    },
    {
      "cell_type": "code",
      "metadata": {
        "id": "qxXWYEahTz6b"
      },
      "source": [
        "ieq_data['Clo'].sum()"
      ],
      "execution_count": null,
      "outputs": []
    },
    {
      "cell_type": "code",
      "metadata": {
        "id": "_bpLt3NCTzzz"
      },
      "source": [
        "ieq_data['Clo'].mean()"
      ],
      "execution_count": null,
      "outputs": []
    },
    {
      "cell_type": "code",
      "metadata": {
        "id": "ykGMx3RRTzo7"
      },
      "source": [
        "ieq_data['Clo'].std()"
      ],
      "execution_count": null,
      "outputs": []
    },
    {
      "cell_type": "markdown",
      "metadata": {
        "id": "EZDlA_P79bZG"
      },
      "source": [
        "## Understanding the diversity of data in a column full of categories\n",
        "\n",
        "With data sets like this, you often want to understand the diversity of behavior in each of the columns that have categorical characteristics"
      ]
    },
    {
      "cell_type": "code",
      "metadata": {
        "id": "A0KQGK7i0yJu"
      },
      "source": [
        "ieq_data.info()"
      ],
      "execution_count": null,
      "outputs": []
    },
    {
      "cell_type": "code",
      "metadata": {
        "id": "RdtMqd8dUAh1"
      },
      "source": [
        "len(ieq_data)"
      ],
      "execution_count": null,
      "outputs": []
    },
    {
      "cell_type": "code",
      "metadata": {
        "id": "4iRBV1Q89TW5"
      },
      "source": [
        "ieq_data['Country'].nunique()"
      ],
      "execution_count": null,
      "outputs": []
    },
    {
      "cell_type": "code",
      "metadata": {
        "id": "niEyMbvS9TaD"
      },
      "source": [
        "ieq_data['Country'].value_counts()"
      ],
      "execution_count": null,
      "outputs": []
    },
    {
      "cell_type": "code",
      "metadata": {
        "id": "GXl7yyq40Kar"
      },
      "source": [
        "ieq_data['Building type'].value_counts()"
      ],
      "execution_count": null,
      "outputs": []
    },
    {
      "cell_type": "code",
      "metadata": {
        "id": "dGtjxyEC1CO7"
      },
      "source": [
        "ieq_data['Climate'].value_counts()"
      ],
      "execution_count": null,
      "outputs": []
    },
    {
      "cell_type": "code",
      "metadata": {
        "id": "7PM4ThS01Gh6"
      },
      "source": [
        "ieq_data['Sex'].value_counts()"
      ],
      "execution_count": null,
      "outputs": []
    },
    {
      "cell_type": "code",
      "metadata": {
        "id": "IFXh2HFy1GlL"
      },
      "source": [
        "ieq_data['Cooling startegy_building level'].value_counts()"
      ],
      "execution_count": null,
      "outputs": []
    },
    {
      "cell_type": "code",
      "metadata": {
        "id": "vbtWbZxU1Gnx"
      },
      "source": [
        "ieq_data['Year'].value_counts()"
      ],
      "execution_count": null,
      "outputs": []
    },
    {
      "cell_type": "code",
      "metadata": {
        "id": "xyGGy30S1Grl"
      },
      "source": [
        "ieq_data['Season'].value_counts()"
      ],
      "execution_count": null,
      "outputs": []
    },
    {
      "cell_type": "code",
      "metadata": {
        "id": "HpBmmVkc1WBD"
      },
      "source": [
        "ieq_data['ThermalSensation_rounded'].value_counts()"
      ],
      "execution_count": null,
      "outputs": []
    },
    {
      "cell_type": "markdown",
      "metadata": {
        "id": "Y-23AKTrKLvn"
      },
      "source": [
        "# Reshaping Data\n",
        "\n",
        "Sometimes we want to use **pivot table** style excecutions to focus on the aggregations of certain columns that might be useful.\n",
        "\n",
        "For example, we can use the `.pivot_table()` function to chose a column (*Country*) as the index, another column as the pivoted vector (*Thermal Sensation*), and a value that is aggregated at these intersections (*Outside air temperature*):"
      ]
    },
    {
      "cell_type": "markdown",
      "metadata": {
        "id": "OPRMLVVc4CDb"
      },
      "source": [
        "### Pivoting Dataframes"
      ]
    },
    {
      "cell_type": "code",
      "metadata": {
        "id": "CRj0Yok816A4"
      },
      "source": [
        "ieq_data_pivoted = ieq_data.pivot_table(index='Country', columns='ThermalSensation_rounded', values='Air temperature (C)', aggfunc='mean')"
      ],
      "execution_count": null,
      "outputs": []
    },
    {
      "cell_type": "code",
      "metadata": {
        "id": "jRsZ78_R16GD"
      },
      "source": [
        "ieq_data_pivoted"
      ],
      "execution_count": null,
      "outputs": []
    },
    {
      "cell_type": "markdown",
      "metadata": {
        "id": "Ni8wq3t93p4O"
      },
      "source": [
        "This transformation has converted the larger raw data set into one that shows the average outside air temperatures for each country in the using the different Thermal Sensations (Rounded) -- this is very interested to compare the different locations\n",
        "\n",
        "### Melting a DataFrame (Unpivoting)\n",
        "\n",
        "Sometimes you will have an aggregated DataFrame that you want to make tall and skinny -- this might be done because other models or visualization techniques require this format -- especially those from Seaborn"
      ]
    },
    {
      "cell_type": "code",
      "metadata": {
        "id": "6bov_bcl16JW"
      },
      "source": [
        "ieq_data_pivoted.melt().head()"
      ],
      "execution_count": null,
      "outputs": []
    },
    {
      "cell_type": "markdown",
      "metadata": {
        "id": "LJUG-gFOtJhZ"
      },
      "source": [
        "# Grouping Data\n",
        "\n",
        "The practice of **Grouping** is similar to pivoting, but is only in one dimension and usually on the index\n",
        "\n",
        "For example, if you wanted to group the rows according to the **Country** that the data is from and take an average across all the non-categorical columns, this would be done like this:"
      ]
    },
    {
      "cell_type": "code",
      "metadata": {
        "id": "YTqSxYPMtJMA"
      },
      "source": [
        "ieq_data.groupby(\"Country\").mean()"
      ],
      "execution_count": null,
      "outputs": []
    },
    {
      "cell_type": "markdown",
      "metadata": {
        "id": "z4w0Rs7K8b63"
      },
      "source": [
        "You can also groupby using other aggregations:"
      ]
    },
    {
      "cell_type": "code",
      "metadata": {
        "id": "k66BIw4w8ang"
      },
      "source": [
        "ieq_data.groupby(\"Country\").median()"
      ],
      "execution_count": null,
      "outputs": []
    },
    {
      "cell_type": "code",
      "metadata": {
        "id": "HZwlMOQ08akq"
      },
      "source": [
        "ieq_data.groupby(\"Country\").size()"
      ],
      "execution_count": null,
      "outputs": []
    },
    {
      "cell_type": "markdown",
      "metadata": {
        "id": "F_jB-CONLbxk"
      },
      "source": [
        "# Plotting populations of data\n",
        "\n",
        "Aggregations, grouping and pivoting are processes in which we can get statistical distributions of data in a form that can be used for further analysis. But, as a human, we simply want to **see** the distributions and understand ways that we can interpret those results. That's where visualizations come into play\n"
      ]
    },
    {
      "cell_type": "markdown",
      "metadata": {
        "id": "JjPSX9nR892p"
      },
      "source": [
        "## Use Boxplots to analyze thermal comfort data\n",
        "\n",
        "Boxplots are a super common means of expressing the range and behavior of a distribution. \n",
        "\n"
      ]
    },
    {
      "cell_type": "code",
      "metadata": {
        "id": "xJtChVjW1kE0"
      },
      "source": [
        "ieq_data.info()"
      ],
      "execution_count": null,
      "outputs": []
    },
    {
      "cell_type": "code",
      "metadata": {
        "id": "xsUxFO_N1GJM"
      },
      "source": [
        "ieq_data[['Air temperature (C)','Relative humidity (%)']].boxplot()"
      ],
      "execution_count": null,
      "outputs": []
    },
    {
      "cell_type": "code",
      "metadata": {
        "id": "QMPNja162FA9"
      },
      "source": [
        "color = {'boxes': 'DarkGreen', 'whiskers': 'DarkOrange',  'medians': 'DarkBlue', 'caps': 'Gray'}\n",
        "ieq_data[['Air temperature (C)','Relative humidity (%)']].plot.box(color=color, sym='r+', figsize=(5,10))"
      ],
      "execution_count": null,
      "outputs": []
    },
    {
      "cell_type": "code",
      "metadata": {
        "id": "UrMf08VJ2ZVA"
      },
      "source": [
        "ieq_data[['Air temperature (C)','Relative humidity (%)']].plot.box(color=color, sym='r+', figsize=(10,5), vert=False)"
      ],
      "execution_count": null,
      "outputs": []
    },
    {
      "cell_type": "code",
      "metadata": {
        "id": "xvhHhTwA2nUq"
      },
      "source": [
        "ieq_data[['Air temperature (C)','Relative humidity (%)','Country']].groupby('Country').boxplot(figsize=(20,20));"
      ],
      "execution_count": null,
      "outputs": []
    },
    {
      "cell_type": "markdown",
      "metadata": {
        "id": "u1Rlp3OKw40I"
      },
      "source": [
        "## Histograms\n",
        "\n",
        "Histograms are one of the most commons ways of illustarting the shape of data"
      ]
    },
    {
      "cell_type": "code",
      "metadata": {
        "id": "w8UaAKyqxv1v"
      },
      "source": [
        "ieq_data.hist(figsize=(10,10));"
      ],
      "execution_count": null,
      "outputs": []
    },
    {
      "cell_type": "markdown",
      "metadata": {
        "id": "dIieDY_p8oVo"
      },
      "source": [
        "## Density Plots\n",
        "\n",
        "This visualization is like a smoothed out box plot with the ratio on the y-axis instead of count"
      ]
    },
    {
      "cell_type": "code",
      "metadata": {
        "id": "4EyNDoXS8noK"
      },
      "source": [
        "ieq_data['Air temperature (C)'].plot.kde()"
      ],
      "execution_count": null,
      "outputs": []
    },
    {
      "cell_type": "markdown",
      "metadata": {
        "id": "CQlj81jQ9DKR"
      },
      "source": [
        "## Scatter plots\n",
        "\n",
        "This plot was covered in the IoT Videos, but it can be applied easily to tabular data as well to show the relationship between two variables"
      ]
    },
    {
      "cell_type": "code",
      "metadata": {
        "id": "mwLN3nwt3HoS"
      },
      "source": [
        "ieq_data.info()"
      ],
      "execution_count": null,
      "outputs": []
    },
    {
      "cell_type": "code",
      "metadata": {
        "trusted": true,
        "id": "7qNpwydYLbyF"
      },
      "source": [
        "ieq_data.plot.scatter(x='Air temperature (C)', y='Relative humidity (%)');"
      ],
      "execution_count": null,
      "outputs": []
    },
    {
      "cell_type": "code",
      "metadata": {
        "id": "ew4aZ91mu1GZ"
      },
      "source": [
        "ieq_data.plot.scatter(x='Air temperature (C)', y='Relative humidity (%)', c='ThermalSensation_rounded', figsize=(15,10));"
      ],
      "execution_count": null,
      "outputs": []
    },
    {
      "cell_type": "markdown",
      "metadata": {
        "id": "FmPNky1d9Ff5"
      },
      "source": [
        "## Scatterplot Matrix\n",
        "\n",
        "A scatterplot matrix enables the user to compare correlations from several columns at once"
      ]
    },
    {
      "cell_type": "code",
      "metadata": {
        "id": "n2rVnBDL4k9E"
      },
      "source": [
        "from pandas.plotting import scatter_matrix"
      ],
      "execution_count": null,
      "outputs": []
    },
    {
      "cell_type": "code",
      "metadata": {
        "id": "Ot7L4rfGvBbC"
      },
      "source": [
        "scatter_matrix(ieq_data[['Air temperature (C)','Relative humidity (%)','ThermalSensation_rounded']], alpha=0.2, figsize=(10,10), diagonal='hist');"
      ],
      "execution_count": null,
      "outputs": []
    },
    {
      "cell_type": "markdown",
      "metadata": {
        "id": "gDQNIx-L7a9q"
      },
      "source": [
        "## Parallel Coordinate Plots\n",
        "\n",
        "Parallel coordinate plots are a multi-variate visualation method to compare several quantitative columns at the same time.\n"
      ]
    },
    {
      "cell_type": "code",
      "metadata": {
        "id": "_s820TVE0mU8"
      },
      "source": [
        "from pandas.plotting import parallel_coordinates\n"
      ],
      "execution_count": null,
      "outputs": []
    },
    {
      "cell_type": "code",
      "metadata": {
        "id": "S11yGoPc8Mmr"
      },
      "source": [
        "ieq_data[['Air temperature (C)','Relative humidity (%)','ThermalSensation_rounded','Air velocity (m/s)']].iloc[:500].info()"
      ],
      "execution_count": null,
      "outputs": []
    },
    {
      "cell_type": "code",
      "metadata": {
        "id": "ea0OKLMa7pwd"
      },
      "source": [
        "parallel_coordinates(ieq_data[['Air temperature (C)','Relative humidity (%)','ThermalSensation_rounded','Air velocity (m/s)']].iloc[:500], 'ThermalSensation_rounded');"
      ],
      "execution_count": null,
      "outputs": []
    },
    {
      "cell_type": "code",
      "metadata": {
        "id": "1Gx8bXEY7z7A"
      },
      "source": [
        ""
      ],
      "execution_count": null,
      "outputs": []
    }
  ]
}
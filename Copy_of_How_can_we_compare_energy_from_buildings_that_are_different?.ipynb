{
  "nbformat": 4,
  "nbformat_minor": 0,
  "metadata": {
    "colab": {
      "name": "Copy of How can we compare energy from buildings that are different?.ipynb",
      "provenance": [],
      "collapsed_sections": [],
      "include_colab_link": true
    },
    "kernelspec": {
      "display_name": "Python 3",
      "language": "python",
      "name": "python3"
    },
    "language_info": {
      "codemirror_mode": {
        "name": "ipython",
        "version": 3
      },
      "file_extension": ".py",
      "mimetype": "text/x-python",
      "name": "python",
      "nbconvert_exporter": "python",
      "pygments_lexer": "ipython3",
      "version": "3.6.8"
    }
  },
  "cells": [
    {
      "cell_type": "markdown",
      "metadata": {
        "id": "view-in-github",
        "colab_type": "text"
      },
      "source": [
        "<a href=\"https://colab.research.google.com/github/belislescott2/belislescott2/blob/main/Copy_of_How_can_we_compare_energy_from_buildings_that_are_different%3F.ipynb\" target=\"_parent\"><img src=\"https://colab.research.google.com/assets/colab-badge.svg\" alt=\"Open In Colab\"/></a>"
      ]
    },
    {
      "cell_type": "markdown",
      "metadata": {
        "id": "m20Yf19rLEPt"
      },
      "source": [
        "# Normalizing energy consumption of buildings to be able to compare them to each other\n",
        "\n",
        "- Created by Clayton Miller - clayton@nus.edu.sg - miller.clayton@gmail.com\n",
        "\n",
        "Buildings come in all shapes, sizes and uses. It is difficult to compare the energy consumption of two buildings if they are not similar in these ways as it wouldn't be an *apples to apples* comparison. In order to compare buildings of different uses, sizes, and climates -- we have to do a process called `normalization`.\n",
        "\n"
      ]
    },
    {
      "cell_type": "markdown",
      "metadata": {
        "id": "xnk7HS-Oy4dL"
      },
      "source": [
        "## The question -- how can we compare the energy consumption of buildings that are different sizes, from different climates, etc.?\n",
        "\n",
        "To get started with this task, we can use the the BDG data set from several buildings. First we'll load the libraries and data once again.\n"
      ]
    },
    {
      "cell_type": "code",
      "metadata": {
        "id": "5gvnmaKALEPu"
      },
      "source": [
        "import pandas as pd\n",
        "from google.colab import drive\n",
        "import os"
      ],
      "execution_count": null,
      "outputs": []
    },
    {
      "cell_type": "code",
      "metadata": {
        "id": "DQrO8ryCLEPw"
      },
      "source": [
        "%matplotlib inline"
      ],
      "execution_count": null,
      "outputs": []
    },
    {
      "cell_type": "code",
      "metadata": {
        "id": "9zT4u7OZLJUz",
        "colab": {
          "base_uri": "https://localhost:8080/"
        },
        "outputId": "3a4b1c86-85d5-4a4f-a737-4e52b2c3d3d3"
      },
      "source": [
        "drive.mount('/content/gdrive')\n",
        "os.chdir(\"/content/gdrive/My Drive/EDX Data Science for Construction, Architecture and Engineering/3 - Construction - Pandas Fundamentals/meter_data/\")"
      ],
      "execution_count": null,
      "outputs": [
        {
          "output_type": "stream",
          "name": "stdout",
          "text": [
            "Mounted at /content/gdrive\n"
          ]
        }
      ]
    },
    {
      "cell_type": "code",
      "metadata": {
        "id": "OrZ6HF-DLEPy",
        "colab": {
          "base_uri": "https://localhost:8080/"
        },
        "outputId": "4a0461e8-af0d-407f-c9cb-878cd4b747bc"
      },
      "source": [
        "%ls\n",
        "buildingname = \"Office_Abbey\""
      ],
      "execution_count": null,
      "outputs": [
        {
          "output_type": "stream",
          "name": "stdout",
          "text": [
            "Office_Abbey.csv         PrimClass_Emilio.csv      UnivClass_Tamra.csv\n",
            "Office_Abigail.csv       PrimClass_Emily.csv       UnivClass_Teri.csv\n",
            "Office_Abigail.gsheet    PrimClass_Eoghan.csv      UnivClass_Therese.csv\n",
            "Office_Alannah.csv       PrimClass_Ernest.csv      UnivDorm_Adan.csv\n",
            "Office_Al.csv            PrimClass_Ernesto.csv     UnivDorm_Adriana.csv\n",
            "Office_Aliyah.csv        PrimClass_Ervin.csv       UnivDorm_Ahmad.csv\n",
            "Office_Allyson.csv       PrimClass_Esmeralda.csv   UnivDorm_Alex.csv\n",
            "Office_Alyson.csv        PrimClass_Ethan.csv       UnivDorm_Alka.csv\n",
            "Office_Amelia.csv        PrimClass_Ethel.csv       UnivDorm_Alonzo.csv\n",
            "Office_Amelie.csv        PrimClass_Eva.csv         UnivDorm_Alphonso.csv\n",
            "Office_Anastasia.csv     PrimClass_Everett.csv     UnivDorm_Alyshialynn.csv\n",
            "Office_Andrea.csv        PrimClass_Evie.csv        UnivDorm_Alyssa.csv\n",
            "Office_Angelica.csv      PrimClass_Ezekiel.csv     UnivDorm_Antonio.csv\n",
            "Office_Angelina.csv      PrimClass_Ezra.csv        UnivDorm_April.csv\n",
            "Office_Angelo.csv        PrimClass_Jacob.csv       UnivDorm_Ashleigh.csv\n",
            "Office_Annika.csv        PrimClass_Jacqueline.csv  UnivDorm_Avery.csv\n",
            "Office_Ashanti.csv       PrimClass_Jacquelyn.csv   UnivDorm_Camila.csv\n",
            "Office_Asher.csv         PrimClass_Jaden.csv       UnivDorm_Candace.csv\n",
            "Office_Aubrey.csv        PrimClass_Jaiden.csv      UnivDorm_Cara.csv\n",
            "Office_Autumn.csv        PrimClass_Jake.csv        UnivDorm_Carey.csv\n",
            "Office_Ava.csv           PrimClass_Jamal.csv       UnivDorm_Carla.csv\n",
            "Office_Ayden.csv         PrimClass_Jamie.csv       UnivDorm_Carter.csv\n",
            "Office_Ayesha.csv        PrimClass_Jane.csv        UnivDorm_Casey.csv\n",
            "Office_Benjamin.csv      PrimClass_Janelle.csv     UnivDorm_Cathal.csv\n",
            "Office_Benthe.csv        PrimClass_Janet.csv       UnivDorm_Cathalina.csv\n",
            "Office_Bianca.csv        PrimClass_Janice.csv      UnivDorm_Cecilia.csv\n",
            "Office_Bobbi.csv         PrimClass_Janie.csv       UnivDorm_Celeste.csv\n",
            "Office_Brian.csv         PrimClass_Janis.csv       UnivDorm_Chelsey.csv\n",
            "Office_Bryon.csv         PrimClass_Janiya.csv      UnivDorm_Cheri.csv\n",
            "Office_Caleb.csv         PrimClass_Jaqueline.csv   UnivDorm_Chester.csv\n",
            "Office_Cameron.csv       PrimClass_Jarrett.csv     UnivDorm_Cheyenne.csv\n",
            "Office_Carissa.csv       PrimClass_Jasmine.csv     UnivDorm_Christi.csv\n",
            "Office_Carolina.csv      PrimClass_Javier.csv      UnivDorm_Christopher.csv\n",
            "Office_Catherine.csv     PrimClass_Jaxson.csv      UnivDorm_Cian.csv\n",
            "Office_Cecelia.csv       PrimClass_Jayda.csv       UnivDorm_Ciaran.csv\n",
            "Office_Charles.csv       PrimClass_Jayla.csv       UnivDorm_Claudia.csv\n",
            "Office_Clarissa.csv      PrimClass_Jaylin.csv      UnivDorm_Clayton.csv\n",
            "Office_Clifton.csv       PrimClass_Jaylinn.csv     UnivDorm_Colton.csv\n",
            "Office_Clinton.csv       PrimClass_Jayson.csv      UnivDorm_Constance.csv\n",
            "Office_Cody.csv          PrimClass_Jazmin.csv      UnivDorm_Cooper.csv\n",
            "Office_Colby.csv         PrimClass_Jazmine.csv     UnivDorm_Corey.csv\n",
            "Office_Conrad.csv        PrimClass_Jean.csv        UnivDorm_Cornelius.csv\n",
            "Office_Cora.csv          PrimClass_Jeanette.csv    UnivDorm_Curtis.csv\n",
            "Office_Corbin.csv        PrimClass_Jeanine.csv     UnivDorm_Jeannette.csv\n",
            "Office_Cristina.csv      PrimClass_Jeannine.csv    UnivDorm_Laura.csv\n",
            "Office_Curt.csv          PrimClass_Jediah.csv      UnivDorm_Lawrence.csv\n",
            "Office_Dawn.csv          PrimClass_Jeff.csv        UnivDorm_Leann.csv\n",
            "Office_Dorian.csv        PrimClass_Jeffery.csv     UnivDorm_Leonard.csv\n",
            "Office_Eddie.csv         PrimClass_Jeffrey.csv     UnivDorm_Leslie.csv\n",
            "Office_Eileen.csv        PrimClass_Jenna.csv       UnivDorm_Leticia.csv\n",
            "Office_Elena.csv         PrimClass_Jennie.csv      UnivDorm_Lorraine.csv\n",
            "Office_Elizabeth.csv     PrimClass_Jennifer.csv    UnivDorm_Lysander.csv\n",
            "Office_Ellie.csv         PrimClass_Jensen.csv      UnivDorm_Malachi.csv\n",
            "Office_Elliot.csv        PrimClass_Jeremy.csv      UnivDorm_Malcolm.csv\n",
            "Office_Ellis.csv         PrimClass_Jermaine.csv    UnivDorm_Marlene.csv\n",
            "Office_Emerald.csv       PrimClass_Jerome.csv      UnivDorm_Marquis.csv\n",
            "Office_Emer.csv          PrimClass_Jesse.csv       UnivDorm_Mathew.csv\n",
            "Office_Erik.csv          PrimClass_Jessie.csv      UnivDorm_Mauricio.csv\n",
            "Office_Evelyn.csv        PrimClass_Jill.csv        UnivDorm_Mckenzie.csv\n",
            "Office_Gabriela.csv      PrimClass_Jim.csv         UnivDorm_Mitch.csv\n",
            "Office_Garman.csv        PrimClass_Jimmie.csv      UnivDorm_Paola.csv\n",
            "Office_Garrett.csv       PrimClass_Joanna.csv      UnivDorm_Patrice.csv\n",
            "Office_Gemma.csv         PrimClass_Jocelyn.csv     UnivDorm_Patti.csv\n",
            "Office_Georgia.csv       PrimClass_Jodie.csv       UnivDorm_Patty.csv\n",
            "Office_Gisselle.csv      PrimClass_Jody.csv        UnivDorm_Payton.csv\n",
            "Office_Gladys.csv        PrimClass_Joel.csv        UnivDorm_Pedro.csv\n",
            "Office_Glenda.csv        PrimClass_Joey.csv        UnivDorm_Petar.csv\n",
            "Office_Glenn.csv         PrimClass_Johanna.csv     UnivDorm_Phillip.csv\n",
            "Office_Gloria.csv        PrimClass_Johnathan.csv   UnivDorm_Phoebe.csv\n",
            "Office_Guillermo.csv     PrimClass_Johnathon.csv   UnivDorm_Piper.csv\n",
            "Office_Gustavo.csv       PrimClass_Johnnie.csv     UnivDorm_Poppy.csv\n",
            "Office_Jackie.csv        PrimClass_Jolie.csv       UnivDorm_Prince.csv\n",
            "Office_Jackson.csv       PrimClass_Jonathon.csv    UnivDorm_Una.csv\n",
            "Office_Jan.csv           PrimClass_Jon.csv         UnivLab_Adrian.csv\n",
            "Office_Javon.csv         PrimClass_Jose.csv        UnivLab_Aine.csv\n",
            "Office_Jayden.csv        PrimClass_Joselyn.csv     UnivLab_Alaina.csv\n",
            "Office_Jeanne.csv        PrimClass_Josephine.csv   UnivLab_Albert.csv\n",
            "Office_Jerry.csv         PrimClass_Josue.csv       UnivLab_Alberto.csv\n",
            "Office_Jesus.csv         PrimClass_Juanita.csv     UnivLab_Alexis.csv\n",
            "Office_Jett.csv          PrimClass_Judith.csv      UnivLab_Alfonso.csv\n",
            "Office_Joan.csv          PrimClass_Judy.csv        UnivLab_Ali.csv\n",
            "Office_John.csv          PrimClass_Julian.csv      UnivLab_Alina.csv\n",
            "Office_Joni.csv          PrimClass_Julianna.csv    UnivLab_Alisa.csv\n",
            "Office_Jude.csv          PrimClass_Julianne.csv    UnivLab_Allan.csv\n",
            "Office_Lane.csv          PrimClass_Julio.csv       UnivLab_Allison.csv\n",
            "Office_Leland.csv        PrimClass_Julius.csv      UnivLab_Amaya.csv\n",
            "Office_Lena.csv          PrimClass_Justice.csv     UnivLab_Amy.csv\n",
            "Office_Lesa.csv          PrimClass_Justin.csv      UnivLab_Ana.csv\n",
            "Office_Lillian.csv       PrimClass_Ulysses.csv     UnivLab_Andre.csv\n",
            "Office_Louise.csv        PrimClass_Uma.csv         UnivLab_Angie.csv\n",
            "Office_Luann.csv         PrimClass_Umar.csv        UnivLab_Anita.csv\n",
            "Office_Mada.csv          PrimClass_Uriah.csv       UnivLab_Aniya.csv\n",
            "Office_Madeleine.csv     UnivClass_Abby.csv        UnivLab_Annabelle.csv\n",
            "Office_Madisyn.csv       UnivClass_Abraham.csv     UnivLab_Annette.csv\n",
            "Office_Malik.csv         UnivClass_Adrienne.csv    UnivLab_Aoife.csv\n",
            "Office_Marc.csv          UnivClass_Aidan.csv       UnivLab_Arianna.csv\n",
            "Office_Marcia.csv        UnivClass_Alec.csv        UnivLab_Ariel.csv\n",
            "Office_Marcus.csv        UnivClass_Alejandra.csv   UnivLab_Ashlee.csv\n",
            "Office_Marianne.csv      UnivClass_Alexander.csv   UnivLab_Ashlynn.csv\n",
            "Office_Marilyn.csv       UnivClass_Alexandra.csv   UnivLab_Ashton.csv\n",
            "Office_Marion.csv        UnivClass_Alexandria.csv  UnivLab_Audra.csv\n",
            "Office_Mark.csv          UnivClass_Alexus.csv      UnivLab_Aurora.csv\n",
            "Office_Marla.csv         UnivClass_Alfredo.csv     UnivLab_Bert.csv\n",
            "Office_Marlon.csv        UnivClass_Alicia.csv      UnivLab_Bethany.csv\n",
            "Office_Martha.csv        UnivClass_Allen.csv       UnivLab_Beth.csv\n",
            "Office_Martin.csv        UnivClass_Alvin.csv       UnivLab_Brad.csv\n",
            "Office_Marvin.csv        UnivClass_Amari.csv       UnivLab_Brenna.csv\n",
            "Office_Maryann.csv       UnivClass_Amya.csv        UnivLab_Caesar.csv\n",
            "Office_Mary.csv          UnivClass_Anamaria.csv    UnivLab_Caitlin.csv\n",
            "Office_Mason.csv         UnivClass_Andy.csv        UnivLab_Callie.csv\n",
            "Office_Mat.csv           UnivClass_Anika.csv       UnivLab_Cam.csv\n",
            "Office_Matthew.csv       UnivClass_Annabella.csv   UnivLab_Camryn.csv\n",
            "Office_Max.csv           UnivClass_Anne.csv        UnivLab_Carley.csv\n",
            "Office_Maximus.csv       UnivClass_Annmarie.csv    UnivLab_Carlos.csv\n",
            "Office_Maya.csv          UnivClass_Antoinette.csv  UnivLab_Carlton.csv\n",
            "Office_Megan.csv         UnivClass_Anya.csv        UnivLab_Carol.csv\n",
            "Office_Melinda.csv       UnivClass_Aoibhe.csv      UnivLab_Carole.csv\n",
            "Office_Mercedes.csv      UnivClass_Archie.csv      UnivLab_Cayden.csv\n",
            "Office_Michael.csv       UnivClass_Ariana.csv      UnivLab_Cecil.csv\n",
            "Office_Micheal.csv       UnivClass_Armando.csv     UnivLab_Cedric.csv\n",
            "Office_Mick.csv          UnivClass_Axel.csv        UnivLab_Cesar.csv\n",
            "Office_Mikayla.csv       UnivClass_Ayanna.csv      UnivLab_Cheyanne.csv\n",
            "Office_Milton.csv        UnivClass_Beatrice.csv    UnivLab_Christine.csv\n",
            "Office_Mohammed.csv      UnivClass_Bob.csv         UnivLab_Christy.csv\n",
            "Office_Moises.csv        UnivClass_Boyd.csv        UnivLab_Ciel.csv\n",
            "Office_Monty.csv         UnivClass_Brett.csv       UnivLab_Cindy.csv\n",
            "Office_Morgan.csv        UnivClass_Caitlyn.csv     UnivLab_Clint.csv\n",
            "Office_Moses.csv         UnivClass_Calvin.csv      UnivLab_Clodagh.csv\n",
            "Office_Muhammad.csv      UnivClass_Camden.csv      UnivLab_Collin.csv\n",
            "Office_Myron.csv         UnivClass_Candy.csv       UnivLab_Cory.csv\n",
            "Office_Natasha.csv       UnivClass_Caoimhe.csv     UnivLab_Cristian.csv\n",
            "Office_Nelson.csv        UnivClass_Carl.csv        UnivLab_Crystal.csv\n",
            "Office_Noel.csv          UnivClass_Carolyn.csv     UnivLab_Dianna.csv\n",
            "Office_Paige.csv         UnivClass_Cathleen.csv    UnivLab_Lauren.csv\n",
            "Office_Pam.csv           UnivClass_Celia.csv       UnivLab_Lea.csv\n",
            "Office_Pamela.csv        UnivClass_Chandler.csv    UnivLab_Lee.csv\n",
            "Office_Pasquale.csv      UnivClass_Charlie.csv     UnivLab_Lester.csv\n",
            "Office_Pat.csv           UnivClass_Christian.csv   UnivLab_Levi.csv\n",
            "Office_Patricia.csv      UnivClass_Ciara.csv       UnivLab_Lilly.csv\n",
            "Office_Paula.csv         UnivClass_Clay.csv        UnivLab_Louie.csv\n",
            "Office_Paulette.csv      UnivClass_Clifford.csv    UnivLab_Lyle.csv\n",
            "Office_Paulina.csv       UnivClass_Colette.csv     UnivLab_Mack.csv\n",
            "Office_Pauline.csv       UnivClass_Conner.csv      UnivLab_Madelyn.csv\n",
            "Office_Penny.csv         UnivClass_Conor.csv       UnivLab_Margret.csv\n",
            "Office_Perla.csv         UnivClass_Craig.csv       UnivLab_Mariana.csv\n",
            "Office_Phebian.csv       UnivClass_Jadon.csv       UnivLab_Marie.csv\n",
            "Office_Precious.csv      UnivClass_Maddison.csv    UnivLab_Mario.csv\n",
            "Office_Scottie.csv       UnivClass_Nash.csv        UnivLab_Marshall.csv\n",
            "Office_Shari.csv         UnivClass_Nathaniel.csv   UnivLab_Miles.csv\n",
            "Office_Shawnette.csv     UnivClass_Nayeli.csv      UnivLab_Neil.csv\n",
            "Office_Shelly.csv        UnivClass_Nelly.csv       UnivLab_Paris.csv\n",
            "Office_Sinead.csv        UnivClass_Nicholas.csv    UnivLab_Parker.csv\n",
            "Office_Skyler.csv        UnivClass_Nickolas.csv    UnivLab_Patrick.csv\n",
            "Office_Stella.csv        UnivClass_Nishka.csv      UnivLab_Patsy.csv\n",
            "Office_Terrell.csv       UnivClass_Noreen.csv      UnivLab_Paul.csv\n",
            "Office_Tod.csv           UnivClass_Pandora.csv     UnivLab_Peggy.csv\n",
            "Office_Travis.csv        UnivClass_Pete.csv        UnivLab_Peyton.csv\n",
            "PrimClass_Angela.csv     UnivClass_Peter.csv       UnivLab_Phil.csv\n",
            "PrimClass_Angel.csv      UnivClass_Philip.csv      UnivLab_Preston.csv\n",
            "PrimClass_Ebony.csv      UnivClass_Phyllis.csv     UnivLab_Priscilla.csv\n",
            "PrimClass_Edmund.csv     UnivClass_Sam.csv         UnivLab_Santiago.csv\n",
            "PrimClass_Edwin.csv      UnivClass_Seb.csv         UnivLab_Susan.csv\n",
            "PrimClass_Eleanor.csv    UnivClass_Serenity.csv    UnivLab_Suzette.csv\n",
            "PrimClass_Eli.csv        UnivClass_Shawna.csv      UnivLab_Tami.csv\n",
            "PrimClass_Elijah.csv     UnivClass_Sheila.csv      UnivLab_Taylor.csv\n",
            "PrimClass_Elisabeth.csv  UnivClass_Stephanie.csv   UnivLab_Terrie.csv\n",
            "PrimClass_Ellen.csv      UnivClass_Stephen.csv     UnivLab_Tracie.csv\n",
            "PrimClass_Elliott.csv    UnivClass_Stuart.csv      UnivLab_Tracy.csv\n",
            "PrimClass_Elmer.csv      UnivClass_Sylvia.csv\n",
            "PrimClass_Emanuela.csv   UnivClass_Tammy.csv\n"
          ]
        }
      ]
    },
    {
      "cell_type": "code",
      "metadata": {
        "id": "sobPskAnLEP0"
      },
      "source": [
        "rawdata = pd.read_csv(buildingname+\".csv\", parse_dates=True, index_col='timestamp')"
      ],
      "execution_count": null,
      "outputs": []
    },
    {
      "cell_type": "code",
      "metadata": {
        "id": "CqlA93i8LEP2",
        "colab": {
          "base_uri": "https://localhost:8080/"
        },
        "outputId": "da0fa96e-cfdf-48d6-e3b4-8949ed31817a"
      },
      "source": [
        "rawdata.info()\n"
      ],
      "execution_count": null,
      "outputs": [
        {
          "output_type": "stream",
          "name": "stdout",
          "text": [
            "<class 'pandas.core.frame.DataFrame'>\n",
            "DatetimeIndex: 8760 entries, 2014-05-01 00:00:00 to 2015-04-30 23:00:00\n",
            "Data columns (total 1 columns):\n",
            " #   Column        Non-Null Count  Dtype  \n",
            "---  ------        --------------  -----  \n",
            " 0   Office_Megan  8760 non-null   float64\n",
            "dtypes: float64(1)\n",
            "memory usage: 136.9 KB\n"
          ]
        }
      ]
    },
    {
      "cell_type": "code",
      "metadata": {
        "id": "tzdnVdMdLEP7",
        "colab": {
          "base_uri": "https://localhost:8080/",
          "height": 238
        },
        "outputId": "13ae4725-9070-497d-855d-f418c5e50d7a"
      },
      "source": [
        "rawdata.head()"
      ],
      "execution_count": null,
      "outputs": [
        {
          "output_type": "execute_result",
          "data": {
            "text/html": [
              "\n",
              "  <div id=\"df-665c0ca6-8bde-4c3e-8f2a-0ea36fa1c28b\">\n",
              "    <div class=\"colab-df-container\">\n",
              "      <div>\n",
              "<style scoped>\n",
              "    .dataframe tbody tr th:only-of-type {\n",
              "        vertical-align: middle;\n",
              "    }\n",
              "\n",
              "    .dataframe tbody tr th {\n",
              "        vertical-align: top;\n",
              "    }\n",
              "\n",
              "    .dataframe thead th {\n",
              "        text-align: right;\n",
              "    }\n",
              "</style>\n",
              "<table border=\"1\" class=\"dataframe\">\n",
              "  <thead>\n",
              "    <tr style=\"text-align: right;\">\n",
              "      <th></th>\n",
              "      <th>Office_Megan</th>\n",
              "    </tr>\n",
              "    <tr>\n",
              "      <th>timestamp</th>\n",
              "      <th></th>\n",
              "    </tr>\n",
              "  </thead>\n",
              "  <tbody>\n",
              "    <tr>\n",
              "      <th>2014-05-01 00:00:00</th>\n",
              "      <td>66.25</td>\n",
              "    </tr>\n",
              "    <tr>\n",
              "      <th>2014-05-01 01:00:00</th>\n",
              "      <td>64.50</td>\n",
              "    </tr>\n",
              "    <tr>\n",
              "      <th>2014-05-01 02:00:00</th>\n",
              "      <td>61.75</td>\n",
              "    </tr>\n",
              "    <tr>\n",
              "      <th>2014-05-01 03:00:00</th>\n",
              "      <td>63.25</td>\n",
              "    </tr>\n",
              "    <tr>\n",
              "      <th>2014-05-01 04:00:00</th>\n",
              "      <td>68.75</td>\n",
              "    </tr>\n",
              "  </tbody>\n",
              "</table>\n",
              "</div>\n",
              "      <button class=\"colab-df-convert\" onclick=\"convertToInteractive('df-665c0ca6-8bde-4c3e-8f2a-0ea36fa1c28b')\"\n",
              "              title=\"Convert this dataframe to an interactive table.\"\n",
              "              style=\"display:none;\">\n",
              "        \n",
              "  <svg xmlns=\"http://www.w3.org/2000/svg\" height=\"24px\"viewBox=\"0 0 24 24\"\n",
              "       width=\"24px\">\n",
              "    <path d=\"M0 0h24v24H0V0z\" fill=\"none\"/>\n",
              "    <path d=\"M18.56 5.44l.94 2.06.94-2.06 2.06-.94-2.06-.94-.94-2.06-.94 2.06-2.06.94zm-11 1L8.5 8.5l.94-2.06 2.06-.94-2.06-.94L8.5 2.5l-.94 2.06-2.06.94zm10 10l.94 2.06.94-2.06 2.06-.94-2.06-.94-.94-2.06-.94 2.06-2.06.94z\"/><path d=\"M17.41 7.96l-1.37-1.37c-.4-.4-.92-.59-1.43-.59-.52 0-1.04.2-1.43.59L10.3 9.45l-7.72 7.72c-.78.78-.78 2.05 0 2.83L4 21.41c.39.39.9.59 1.41.59.51 0 1.02-.2 1.41-.59l7.78-7.78 2.81-2.81c.8-.78.8-2.07 0-2.86zM5.41 20L4 18.59l7.72-7.72 1.47 1.35L5.41 20z\"/>\n",
              "  </svg>\n",
              "      </button>\n",
              "      \n",
              "  <style>\n",
              "    .colab-df-container {\n",
              "      display:flex;\n",
              "      flex-wrap:wrap;\n",
              "      gap: 12px;\n",
              "    }\n",
              "\n",
              "    .colab-df-convert {\n",
              "      background-color: #E8F0FE;\n",
              "      border: none;\n",
              "      border-radius: 50%;\n",
              "      cursor: pointer;\n",
              "      display: none;\n",
              "      fill: #1967D2;\n",
              "      height: 32px;\n",
              "      padding: 0 0 0 0;\n",
              "      width: 32px;\n",
              "    }\n",
              "\n",
              "    .colab-df-convert:hover {\n",
              "      background-color: #E2EBFA;\n",
              "      box-shadow: 0px 1px 2px rgba(60, 64, 67, 0.3), 0px 1px 3px 1px rgba(60, 64, 67, 0.15);\n",
              "      fill: #174EA6;\n",
              "    }\n",
              "\n",
              "    [theme=dark] .colab-df-convert {\n",
              "      background-color: #3B4455;\n",
              "      fill: #D2E3FC;\n",
              "    }\n",
              "\n",
              "    [theme=dark] .colab-df-convert:hover {\n",
              "      background-color: #434B5C;\n",
              "      box-shadow: 0px 1px 3px 1px rgba(0, 0, 0, 0.15);\n",
              "      filter: drop-shadow(0px 1px 2px rgba(0, 0, 0, 0.3));\n",
              "      fill: #FFFFFF;\n",
              "    }\n",
              "  </style>\n",
              "\n",
              "      <script>\n",
              "        const buttonEl =\n",
              "          document.querySelector('#df-665c0ca6-8bde-4c3e-8f2a-0ea36fa1c28b button.colab-df-convert');\n",
              "        buttonEl.style.display =\n",
              "          google.colab.kernel.accessAllowed ? 'block' : 'none';\n",
              "\n",
              "        async function convertToInteractive(key) {\n",
              "          const element = document.querySelector('#df-665c0ca6-8bde-4c3e-8f2a-0ea36fa1c28b');\n",
              "          const dataTable =\n",
              "            await google.colab.kernel.invokeFunction('convertToInteractive',\n",
              "                                                     [key], {});\n",
              "          if (!dataTable) return;\n",
              "\n",
              "          const docLinkHtml = 'Like what you see? Visit the ' +\n",
              "            '<a target=\"_blank\" href=https://colab.research.google.com/notebooks/data_table.ipynb>data table notebook</a>'\n",
              "            + ' to learn more about interactive tables.';\n",
              "          element.innerHTML = '';\n",
              "          dataTable['output_type'] = 'display_data';\n",
              "          await google.colab.output.renderOutput(dataTable, element);\n",
              "          const docLink = document.createElement('div');\n",
              "          docLink.innerHTML = docLinkHtml;\n",
              "          element.appendChild(docLink);\n",
              "        }\n",
              "      </script>\n",
              "    </div>\n",
              "  </div>\n",
              "  "
            ],
            "text/plain": [
              "                     Office_Megan\n",
              "timestamp                        \n",
              "2014-05-01 00:00:00         66.25\n",
              "2014-05-01 01:00:00         64.50\n",
              "2014-05-01 02:00:00         61.75\n",
              "2014-05-01 03:00:00         63.25\n",
              "2014-05-01 04:00:00         68.75"
            ]
          },
          "metadata": {},
          "execution_count": 19
        }
      ]
    },
    {
      "cell_type": "code",
      "metadata": {
        "id": "vg-sFY3eLEP9",
        "colab": {
          "base_uri": "https://localhost:8080/",
          "height": 390
        },
        "outputId": "eabe71a0-b9cd-4a75-cf40-bce3dca457bc"
      },
      "source": [
        "rawdata.plot(figsize=(20,8))"
      ],
      "execution_count": null,
      "outputs": [
        {
          "output_type": "execute_result",
          "data": {
            "text/plain": [
              "<matplotlib.axes._subplots.AxesSubplot at 0x7fc620fcf450>"
            ]
          },
          "metadata": {},
          "execution_count": 20
        },
        {
          "output_type": "display_data",
          "data": {
            "image/png": "[encoded data removed]",
            "text/plain": [
              "<Figure size 1440x576 with 1 Axes>"
            ]
          },
          "metadata": {
            "needs_background": "light"
          }
        }
      ]
    },
    {
      "cell_type": "markdown",
      "metadata": {
        "id": "NXwh8m-cLEQA"
      },
      "source": [
        "# Normalization based on floor area\n",
        "\n",
        "One of the most simple ways of normalization is to simply divide energy consumption by the floor area to create the Energy Use Intensity (EUI). This metric takes energy and simply divides by the floor area (in ft2 or m2)"
      ]
    },
    {
      "cell_type": "code",
      "metadata": {
        "id": "ZKlZVVd_LEQA"
      },
      "source": [
        "meta = pd.read_csv(\"/content/gdrive/My Drive/EDX Data Science for Construction, Architecture and Engineering/3 - Construction - Pandas Fundamentals/all_buildings_meta_data.csv\", index_col=\"uid\")"
      ],
      "execution_count": null,
      "outputs": []
    },
    {
      "cell_type": "code",
      "metadata": {
        "id": "nmlHpJ2PLEQC",
        "colab": {
          "base_uri": "https://localhost:8080/",
          "height": 388
        },
        "outputId": "3a207981-73e5-48bc-e12b-3ed51afb561c"
      },
      "source": [
        "meta.head()"
      ],
      "execution_count": null,
      "outputs": [
        {
          "output_type": "execute_result",
          "data": {
            "text/html": [
              "\n",
              "  <div id=\"df-f5fa6385-71b1-4a23-a3fc-6ab014695b7b\">\n",
              "    <div class=\"colab-df-container\">\n",
              "      <div>\n",
              "<style scoped>\n",
              "    .dataframe tbody tr th:only-of-type {\n",
              "        vertical-align: middle;\n",
              "    }\n",
              "\n",
              "    .dataframe tbody tr th {\n",
              "        vertical-align: top;\n",
              "    }\n",
              "\n",
              "    .dataframe thead th {\n",
              "        text-align: right;\n",
              "    }\n",
              "</style>\n",
              "<table border=\"1\" class=\"dataframe\">\n",
              "  <thead>\n",
              "    <tr style=\"text-align: right;\">\n",
              "      <th></th>\n",
              "      <th>dataend</th>\n",
              "      <th>datastart</th>\n",
              "      <th>energystarscore</th>\n",
              "      <th>heatingtype</th>\n",
              "      <th>industry</th>\n",
              "      <th>mainheatingtype</th>\n",
              "      <th>numberoffloors</th>\n",
              "      <th>occupants</th>\n",
              "      <th>primaryspaceusage</th>\n",
              "      <th>rating</th>\n",
              "      <th>sqft</th>\n",
              "      <th>sqm</th>\n",
              "      <th>subindustry</th>\n",
              "      <th>timezone</th>\n",
              "      <th>yearbuilt</th>\n",
              "      <th>nickname</th>\n",
              "      <th>primaryspaceuse_abbrev</th>\n",
              "      <th>newweatherfilename</th>\n",
              "    </tr>\n",
              "    <tr>\n",
              "      <th>uid</th>\n",
              "      <th></th>\n",
              "      <th></th>\n",
              "      <th></th>\n",
              "      <th></th>\n",
              "      <th></th>\n",
              "      <th></th>\n",
              "      <th></th>\n",
              "      <th></th>\n",
              "      <th></th>\n",
              "      <th></th>\n",
              "      <th></th>\n",
              "      <th></th>\n",
              "      <th></th>\n",
              "      <th></th>\n",
              "      <th></th>\n",
              "      <th></th>\n",
              "      <th></th>\n",
              "      <th></th>\n",
              "    </tr>\n",
              "  </thead>\n",
              "  <tbody>\n",
              "    <tr>\n",
              "      <th>PrimClass_Everett</th>\n",
              "      <td>31/12/12 23:00</td>\n",
              "      <td>01/01/12 00:00</td>\n",
              "      <td>NaN</td>\n",
              "      <td>NaN</td>\n",
              "      <td>Education</td>\n",
              "      <td>NaN</td>\n",
              "      <td>NaN</td>\n",
              "      <td>NaN</td>\n",
              "      <td>Primary/Secondary Classroom</td>\n",
              "      <td>NaN</td>\n",
              "      <td>105530.0</td>\n",
              "      <td>9804.053590</td>\n",
              "      <td>Primary/Secondary School</td>\n",
              "      <td>America/New_York</td>\n",
              "      <td>NaN</td>\n",
              "      <td>Everett</td>\n",
              "      <td>PrimClass</td>\n",
              "      <td>weather12.csv</td>\n",
              "    </tr>\n",
              "    <tr>\n",
              "      <th>UnivClass_Clifford</th>\n",
              "      <td>31/12/15 23:00</td>\n",
              "      <td>01/01/15 00:00</td>\n",
              "      <td>NaN</td>\n",
              "      <td>NaN</td>\n",
              "      <td>Education</td>\n",
              "      <td>NaN</td>\n",
              "      <td>NaN</td>\n",
              "      <td>NaN</td>\n",
              "      <td>College Classroom</td>\n",
              "      <td>NaN</td>\n",
              "      <td>56969.0</td>\n",
              "      <td>5292.591007</td>\n",
              "      <td>College/University</td>\n",
              "      <td>America/New_York</td>\n",
              "      <td>1967</td>\n",
              "      <td>Clifford</td>\n",
              "      <td>UnivClass</td>\n",
              "      <td>weather2.csv</td>\n",
              "    </tr>\n",
              "    <tr>\n",
              "      <th>Office_Elizabeth</th>\n",
              "      <td>31/12/12 23:00</td>\n",
              "      <td>01/01/12 00:00</td>\n",
              "      <td>NaN</td>\n",
              "      <td>NaN</td>\n",
              "      <td>Commercial Property</td>\n",
              "      <td>NaN</td>\n",
              "      <td>NaN</td>\n",
              "      <td>NaN</td>\n",
              "      <td>Office</td>\n",
              "      <td>NaN</td>\n",
              "      <td>294651.0</td>\n",
              "      <td>27373.961850</td>\n",
              "      <td>Commercial Real Estate</td>\n",
              "      <td>America/Los_Angeles</td>\n",
              "      <td>NaN</td>\n",
              "      <td>Elizabeth</td>\n",
              "      <td>Office</td>\n",
              "      <td>weather22.csv</td>\n",
              "    </tr>\n",
              "    <tr>\n",
              "      <th>Office_Ellie</th>\n",
              "      <td>31/12/12 23:00</td>\n",
              "      <td>01/01/12 00:00</td>\n",
              "      <td>NaN</td>\n",
              "      <td>NaN</td>\n",
              "      <td>Commercial Property</td>\n",
              "      <td>NaN</td>\n",
              "      <td>NaN</td>\n",
              "      <td>NaN</td>\n",
              "      <td>Office</td>\n",
              "      <td>NaN</td>\n",
              "      <td>496517.0</td>\n",
              "      <td>46127.918850</td>\n",
              "      <td>Bank/Financial Services</td>\n",
              "      <td>America/Los_Angeles</td>\n",
              "      <td>NaN</td>\n",
              "      <td>Ellie</td>\n",
              "      <td>Office</td>\n",
              "      <td>weather28.csv</td>\n",
              "    </tr>\n",
              "    <tr>\n",
              "      <th>PrimClass_Elisabeth</th>\n",
              "      <td>31/12/12 23:00</td>\n",
              "      <td>01/01/12 00:00</td>\n",
              "      <td>NaN</td>\n",
              "      <td>NaN</td>\n",
              "      <td>Education</td>\n",
              "      <td>NaN</td>\n",
              "      <td>NaN</td>\n",
              "      <td>NaN</td>\n",
              "      <td>Primary/Secondary Classroom</td>\n",
              "      <td>NaN</td>\n",
              "      <td>233062.0</td>\n",
              "      <td>21652.158990</td>\n",
              "      <td>Primary/Secondary School</td>\n",
              "      <td>America/New_York</td>\n",
              "      <td>NaN</td>\n",
              "      <td>Elisabeth</td>\n",
              "      <td>PrimClass</td>\n",
              "      <td>weather23.csv</td>\n",
              "    </tr>\n",
              "  </tbody>\n",
              "</table>\n",
              "</div>\n",
              "      <button class=\"colab-df-convert\" onclick=\"convertToInteractive('df-f5fa6385-71b1-4a23-a3fc-6ab014695b7b')\"\n",
              "              title=\"Convert this dataframe to an interactive table.\"\n",
              "              style=\"display:none;\">\n",
              "        \n",
              "  <svg xmlns=\"http://www.w3.org/2000/svg\" height=\"24px\"viewBox=\"0 0 24 24\"\n",
              "       width=\"24px\">\n",
              "    <path d=\"M0 0h24v24H0V0z\" fill=\"none\"/>\n",
              "    <path d=\"M18.56 5.44l.94 2.06.94-2.06 2.06-.94-2.06-.94-.94-2.06-.94 2.06-2.06.94zm-11 1L8.5 8.5l.94-2.06 2.06-.94-2.06-.94L8.5 2.5l-.94 2.06-2.06.94zm10 10l.94 2.06.94-2.06 2.06-.94-2.06-.94-.94-2.06-.94 2.06-2.06.94z\"/><path d=\"M17.41 7.96l-1.37-1.37c-.4-.4-.92-.59-1.43-.59-.52 0-1.04.2-1.43.59L10.3 9.45l-7.72 7.72c-.78.78-.78 2.05 0 2.83L4 21.41c.39.39.9.59 1.41.59.51 0 1.02-.2 1.41-.59l7.78-7.78 2.81-2.81c.8-.78.8-2.07 0-2.86zM5.41 20L4 18.59l7.72-7.72 1.47 1.35L5.41 20z\"/>\n",
              "  </svg>\n",
              "      </button>\n",
              "      \n",
              "  <style>\n",
              "    .colab-df-container {\n",
              "      display:flex;\n",
              "      flex-wrap:wrap;\n",
              "      gap: 12px;\n",
              "    }\n",
              "\n",
              "    .colab-df-convert {\n",
              "      background-color: #E8F0FE;\n",
              "      border: none;\n",
              "      border-radius: 50%;\n",
              "      cursor: pointer;\n",
              "      display: none;\n",
              "      fill: #1967D2;\n",
              "      height: 32px;\n",
              "      padding: 0 0 0 0;\n",
              "      width: 32px;\n",
              "    }\n",
              "\n",
              "    .colab-df-convert:hover {\n",
              "      background-color: #E2EBFA;\n",
              "      box-shadow: 0px 1px 2px rgba(60, 64, 67, 0.3), 0px 1px 3px 1px rgba(60, 64, 67, 0.15);\n",
              "      fill: #174EA6;\n",
              "    }\n",
              "\n",
              "    [theme=dark] .colab-df-convert {\n",
              "      background-color: #3B4455;\n",
              "      fill: #D2E3FC;\n",
              "    }\n",
              "\n",
              "    [theme=dark] .colab-df-convert:hover {\n",
              "      background-color: #434B5C;\n",
              "      box-shadow: 0px 1px 3px 1px rgba(0, 0, 0, 0.15);\n",
              "      filter: drop-shadow(0px 1px 2px rgba(0, 0, 0, 0.3));\n",
              "      fill: #FFFFFF;\n",
              "    }\n",
              "  </style>\n",
              "\n",
              "      <script>\n",
              "        const buttonEl =\n",
              "          document.querySelector('#df-f5fa6385-71b1-4a23-a3fc-6ab014695b7b button.colab-df-convert');\n",
              "        buttonEl.style.display =\n",
              "          google.colab.kernel.accessAllowed ? 'block' : 'none';\n",
              "\n",
              "        async function convertToInteractive(key) {\n",
              "          const element = document.querySelector('#df-f5fa6385-71b1-4a23-a3fc-6ab014695b7b');\n",
              "          const dataTable =\n",
              "            await google.colab.kernel.invokeFunction('convertToInteractive',\n",
              "                                                     [key], {});\n",
              "          if (!dataTable) return;\n",
              "\n",
              "          const docLinkHtml = 'Like what you see? Visit the ' +\n",
              "            '<a target=\"_blank\" href=https://colab.research.google.com/notebooks/data_table.ipynb>data table notebook</a>'\n",
              "            + ' to learn more about interactive tables.';\n",
              "          element.innerHTML = '';\n",
              "          dataTable['output_type'] = 'display_data';\n",
              "          await google.colab.output.renderOutput(dataTable, element);\n",
              "          const docLink = document.createElement('div');\n",
              "          docLink.innerHTML = docLinkHtml;\n",
              "          element.appendChild(docLink);\n",
              "        }\n",
              "      </script>\n",
              "    </div>\n",
              "  </div>\n",
              "  "
            ],
            "text/plain": [
              "                            dataend  ... newweatherfilename\n",
              "uid                                  ...                   \n",
              "PrimClass_Everett    31/12/12 23:00  ...      weather12.csv\n",
              "UnivClass_Clifford   31/12/15 23:00  ...       weather2.csv\n",
              "Office_Elizabeth     31/12/12 23:00  ...      weather22.csv\n",
              "Office_Ellie         31/12/12 23:00  ...      weather28.csv\n",
              "PrimClass_Elisabeth  31/12/12 23:00  ...      weather23.csv\n",
              "\n",
              "[5 rows x 18 columns]"
            ]
          },
          "metadata": {},
          "execution_count": 10
        }
      ]
    },
    {
      "cell_type": "markdown",
      "metadata": {
        "id": "9fwNyRMSzE2E"
      },
      "source": [
        "## Extract meta data from another file\n",
        "\n",
        "You can see in the meta data file that there are various attributes that we can use to normalize the building consumption -- including `sqm` or size of the building"
      ]
    },
    {
      "cell_type": "code",
      "metadata": {
        "id": "rGdbOyW2LEQF",
        "colab": {
          "base_uri": "https://localhost:8080/"
        },
        "outputId": "3522e338-3b5f-4707-ae81-af39d173af42"
      },
      "source": [
        "meta.loc[buildingname]"
      ],
      "execution_count": null,
      "outputs": [
        {
          "output_type": "execute_result",
          "data": {
            "text/plain": [
              "dataend                       31/12/15 23:00\n",
              "datastart                     01/01/15 00:00\n",
              "energystarscore                          NaN\n",
              "heatingtype                              NaN\n",
              "industry                           Education\n",
              "mainheatingtype                          NaN\n",
              "numberoffloors                           NaN\n",
              "occupants                                NaN\n",
              "primaryspaceusage                     Office\n",
              "rating                                   NaN\n",
              "sqft                                 74180.0\n",
              "sqm                               6891.54454\n",
              "subindustry               College/University\n",
              "timezone                     America/Phoenix\n",
              "yearbuilt                               1930\n",
              "nickname                               Abbey\n",
              "primaryspaceuse_abbrev                Office\n",
              "newweatherfilename              weather0.csv\n",
              "Name: Office_Abbey, dtype: object"
            ]
          },
          "metadata": {},
          "execution_count": 11
        }
      ]
    },
    {
      "cell_type": "code",
      "metadata": {
        "id": "S3hPe0VoLEQI",
        "colab": {
          "base_uri": "https://localhost:8080/"
        },
        "outputId": "2483d9a5-ecee-4cff-b3ab-32bea0cc9070"
      },
      "source": [
        "meta.loc[buildingname][\"sqm\"]"
      ],
      "execution_count": null,
      "outputs": [
        {
          "output_type": "execute_result",
          "data": {
            "text/plain": [
              "6891.54454"
            ]
          },
          "metadata": {},
          "execution_count": 14
        }
      ]
    },
    {
      "cell_type": "markdown",
      "metadata": {
        "id": "TnOvBf6yLEQK"
      },
      "source": [
        "Now we normalize using area by using a vector operation and resampling to monthly data."
      ]
    },
    {
      "cell_type": "code",
      "metadata": {
        "id": "ey2B1elrLEQM"
      },
      "source": [
        "rawdata.head()"
      ],
      "execution_count": null,
      "outputs": []
    },
    {
      "cell_type": "code",
      "metadata": {
        "id": "6dXr_SIkLEQO"
      },
      "source": [
        "rawdata_normalized = rawdata/meta.loc[buildingname][\"sqm\"]"
      ],
      "execution_count": null,
      "outputs": []
    },
    {
      "cell_type": "code",
      "metadata": {
        "id": "kXhwS7THLEQS"
      },
      "source": [
        "rawdata_normalized.head()"
      ],
      "execution_count": null,
      "outputs": []
    },
    {
      "cell_type": "code",
      "metadata": {
        "id": "Lj6qjXlSLEQW"
      },
      "source": [
        "rawdata_normalized_monthly = rawdata_normalized.resample(\"M\").sum()"
      ],
      "execution_count": null,
      "outputs": []
    },
    {
      "cell_type": "code",
      "metadata": {
        "id": "EJLEtqmXLEQa"
      },
      "source": [
        "rawdata_normalized_monthly.plot(kind=\"bar\", figsize=(10,4), title='Energy Consumption per Square Meter Floor Area')"
      ],
      "execution_count": null,
      "outputs": []
    },
    {
      "cell_type": "markdown",
      "metadata": {
        "id": "RCtVg7lQLEQd"
      },
      "source": [
        "# Automation of the process of analysis on multiple buildings\n",
        "\n",
        "Normalization is really about the ability to compare a diverse set of buildings\n",
        "\n",
        "Now we load 6 buildings to extract and normalize the data. Since the normalization process is most useful on a set of buildings, we will load six of the BDG buildings as an example to showcase the comparison."
      ]
    },
    {
      "cell_type": "code",
      "metadata": {
        "id": "YZ7YENSQLEQd"
      },
      "source": [
        "buildingnamelist = [\"Office_Abbey\",\n",
        "\"Office_Pam\",\n",
        "\"Office_Penny\",\n",
        "\"UnivLab_Allison\",\n",
        "\"UnivLab_Audra\",\n",
        "\"UnivLab_Ciel\"]"
      ],
      "execution_count": null,
      "outputs": []
    },
    {
      "cell_type": "code",
      "metadata": {
        "id": "BoopTUAwLEQg"
      },
      "source": [
        "annual_data_list = []\n",
        "annual_data_list_normalized = []"
      ],
      "execution_count": null,
      "outputs": []
    },
    {
      "cell_type": "code",
      "metadata": {
        "id": "wc_6hd4WLEQi"
      },
      "source": [
        "for buildingname in buildingnamelist:\n",
        "    print(\"Getting data from: \"+buildingname)\n",
        "    \n",
        "    rawdata = pd.read_csv(buildingname+\".csv\", parse_dates=True, index_col='timestamp')\n",
        "    floor_area = meta.loc[buildingname][\"sqm\"]\n",
        "    \n",
        "    annual = rawdata.sum()\n",
        "\n",
        "    normalized_data = rawdata/floor_area\n",
        "    annual_normalized = normalized_data.sum()\n",
        "    \n",
        "    annual_data_list_normalized.append(annual_normalized)\n",
        "    annual_data_list.append(annual) "
      ],
      "execution_count": null,
      "outputs": []
    },
    {
      "cell_type": "code",
      "metadata": {
        "id": "t-Zxt-d5LEQj"
      },
      "source": [
        "totaldata = pd.concat(annual_data_list)\n",
        "totaldata_normalized = pd.concat(annual_data_list_normalized)"
      ],
      "execution_count": null,
      "outputs": []
    },
    {
      "cell_type": "code",
      "metadata": {
        "id": "YMmJUJPELEQl"
      },
      "source": [
        "totaldata"
      ],
      "execution_count": null,
      "outputs": []
    },
    {
      "cell_type": "code",
      "metadata": {
        "id": "EtA4sLadLEQn"
      },
      "source": [
        "totaldata_normalized"
      ],
      "execution_count": null,
      "outputs": []
    },
    {
      "cell_type": "markdown",
      "metadata": {
        "id": "NRlkTaT5zrSq"
      },
      "source": [
        "## Unnormalized energy consumption\n",
        "\n",
        "As you can see from the annual totals of energy consumption, the Lab named *Ciel* uses a lot of energy as compared to the other buildings!"
      ]
    },
    {
      "cell_type": "code",
      "metadata": {
        "id": "dHFsAnK6LEQp"
      },
      "source": [
        "totaldata.plot(kind='bar',figsize=(10,5))"
      ],
      "execution_count": null,
      "outputs": []
    },
    {
      "cell_type": "markdown",
      "metadata": {
        "id": "wErsIkHx0C3E"
      },
      "source": [
        "## Normalized Energy Consumption\n",
        "\n",
        "However, when normalized using floor area, *Ciel* is not the highest consumer"
      ]
    },
    {
      "cell_type": "code",
      "metadata": {
        "id": "FrgWOBbbLEQq"
      },
      "source": [
        "totaldata_normalized.plot(kind='bar',figsize=(10,5))"
      ],
      "execution_count": null,
      "outputs": []
    },
    {
      "cell_type": "code",
      "metadata": {
        "id": "VmkuFD3By69T"
      },
      "source": [
        ""
      ],
      "execution_count": null,
      "outputs": []
    }
  ]
}